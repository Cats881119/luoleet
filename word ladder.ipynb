{
 "metadata": {
  "name": ""
 },
 "nbformat": 3,
 "nbformat_minor": 0,
 "worksheets": [
  {
   "cells": [
    {
     "cell_type": "code",
     "collapsed": false,
     "input": [
      "    def ladderLength(start, end, dict):\n",
      "        dict.remove(start)\n",
      "        dict.remove(end)\n",
      "        visit = set()\n",
      "        queue = [start]\n",
      "        ql = [1]\n",
      "        while len(queue) > 0:\n",
      "            ts = queue[0]\n",
      "            queue.pop(0)\n",
      "            level = ql[0]\n",
      "            ql.pop(0)\n",
      "            lits = list(ts)\n",
      "            for i in range(0, len(ts)):\n",
      "                for cn in range(ord('a'), ord('z') + 1):\n",
      "                    c = chr(cn)\n",
      "                    tc = lits[i]\n",
      "                    lits[i] = c\n",
      "                    c = tc\n",
      "                    ttemp = \"\".join(lits)\n",
      "                    if ttemp == end:\n",
      "                        return level + 1\n",
      "                    if ttemp in dict and (ttemp in visit) == False:\n",
      "                        queue.append(ttemp)\n",
      "                        ql.append(level+1)\n",
      "                        visit.add(ttemp)\n",
      "                    tc = lits[i]\n",
      "                    lits[i] = c\n",
      "                    c = tc\n",
      "        return 0\n",
      "    dict = set([\"dose\",\"ends\",\"dine\",\"jars\",\"prow\",\"soap\",\"guns\",\"hops\",\"cray\",\"hove\",\"ella\",\"hour\",\"lens\",\"jive\",\"wiry\",\"earl\",\"mara\",\"part\",\"flue\",\"putt\",\"rory\",\"bull\",\"york\",\"ruts\",\"lily\",\"vamp\",\"bask\",\"peer\",\"boat\",\"dens\",\"lyre\",\"jets\",\"wide\",\"rile\",\"boos\",\"down\",\"path\",\"onyx\",\"mows\",\"toke\",\"soto\",\"dork\",\"nape\",\"mans\",\"loin\",\"jots\",\"male\",\"sits\",\"minn\",\"sale\",\"pets\",\"hugo\",\"woke\",\"suds\",\"rugs\",\"vole\",\"warp\",\"mite\",\"pews\",\"lips\",\"pals\",\"nigh\",\"sulk\",\"vice\",\"clod\",\"iowa\",\"gibe\",\"shad\",\"carl\",\"huns\",\"coot\",\"sera\",\"mils\",\"rose\",\"orly\",\"ford\",\"void\",\"time\",\"eloy\",\"risk\",\"veep\",\"reps\",\"dolt\",\"hens\",\"tray\",\"melt\",\"rung\",\"rich\",\"saga\",\"lust\",\"yews\",\"rode\",\"many\",\"cods\",\"rape\",\"last\",\"tile\",\"nosy\",\"take\",\"nope\",\"toni\",\"bank\",\"jock\",\"jody\",\"diss\",\"nips\",\"bake\",\"lima\",\"wore\",\"kins\",\"cult\",\"hart\",\"wuss\",\"tale\",\"sing\",\"lake\",\"bogy\",\"wigs\",\"kari\",\"magi\",\"bass\",\"pent\",\"tost\",\"fops\",\"bags\",\"duns\",\"will\",\"tart\",\"drug\",\"gale\",\"mold\",\"disk\",\"spay\",\"hows\",\"naps\",\"puss\",\"gina\",\"kara\",\"zorn\",\"boll\",\"cams\",\"boas\",\"rave\",\"sets\",\"lego\",\"hays\",\"judy\",\"chap\",\"live\",\"bahs\",\"ohio\",\"nibs\",\"cuts\",\"pups\",\"data\",\"kate\",\"rump\",\"hews\",\"mary\",\"stow\",\"fang\",\"bolt\",\"rues\",\"mesh\",\"mice\",\"rise\",\"rant\",\"dune\",\"jell\",\"laws\",\"jove\",\"bode\",\"sung\",\"nils\",\"vila\",\"mode\",\"hued\",\"cell\",\"fies\",\"swat\",\"wags\",\"nate\",\"wist\",\"honk\",\"goth\",\"told\",\"oise\",\"wail\",\"tels\",\"sore\",\"hunk\",\"mate\",\"luke\",\"tore\",\"bond\",\"bast\",\"vows\",\"ripe\",\"fond\",\"benz\",\"firs\",\"zeds\",\"wary\",\"baas\",\"wins\",\"pair\",\"tags\",\"cost\",\"woes\",\"buns\",\"lend\",\"bops\",\"code\",\"eddy\",\"siva\",\"oops\",\"toed\",\"bale\",\"hutu\",\"jolt\",\"rife\",\"darn\",\"tape\",\"bold\",\"cope\",\"cake\",\"wisp\",\"vats\",\"wave\",\"hems\",\"bill\",\"cord\",\"pert\",\"type\",\"kroc\",\"ucla\",\"albs\",\"yoko\",\"silt\",\"pock\",\"drub\",\"puny\",\"fads\",\"mull\",\"pray\",\"mole\",\"talc\",\"east\",\"slay\",\"jamb\",\"mill\",\"dung\",\"jack\",\"lynx\",\"nome\",\"leos\",\"lade\",\"sana\",\"tike\",\"cali\",\"toge\",\"pled\",\"mile\",\"mass\",\"leon\",\"sloe\",\"lube\",\"kans\",\"cory\",\"burs\",\"race\",\"toss\",\"mild\",\"tops\",\"maze\",\"city\",\"sadr\",\"bays\",\"poet\",\"volt\",\"laze\",\"gold\",\"zuni\",\"shea\",\"gags\",\"fist\",\"ping\",\"pope\",\"cora\",\"yaks\",\"cosy\",\"foci\",\"plan\",\"colo\",\"hume\",\"yowl\",\"craw\",\"pied\",\"toga\",\"lobs\",\"love\",\"lode\",\"duds\",\"bled\",\"juts\",\"gabs\",\"fink\",\"rock\",\"pant\",\"wipe\",\"pele\",\"suez\",\"nina\",\"ring\",\"okra\",\"warm\",\"lyle\",\"gape\",\"bead\",\"lead\",\"jane\",\"oink\",\"ware\",\"zibo\",\"inns\",\"mope\",\"hang\",\"made\",\"fobs\",\"gamy\",\"fort\",\"peak\",\"gill\",\"dino\",\"dina\",\"tier\"])   \n",
      "    start = \"nape\"\n",
      "    end = \"mild\"\n",
      "    ladderLength(start, end, dict)"
     ],
     "language": "python",
     "metadata": {},
     "outputs": [
      {
       "metadata": {},
       "output_type": "pyout",
       "prompt_number": 34,
       "text": [
        "6"
       ]
      }
     ],
     "prompt_number": 34
    },
    {
     "cell_type": "code",
     "collapsed": false,
     "input": [
      "visit = set()\n",
      "print \"a\" in visit"
     ],
     "language": "python",
     "metadata": {},
     "outputs": [
      {
       "output_type": "stream",
       "stream": "stdout",
       "text": [
        "False\n"
       ]
      }
     ],
     "prompt_number": 24
    },
    {
     "cell_type": "code",
     "collapsed": false,
     "input": [],
     "language": "python",
     "metadata": {},
     "outputs": []
    }
   ],
   "metadata": {}
  }
 ]
}