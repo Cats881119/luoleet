{
 "metadata": {
  "name": ""
 },
 "nbformat": 3,
 "nbformat_minor": 0,
 "worksheets": [
  {
   "cells": [
    {
     "cell_type": "code",
     "collapsed": false,
     "input": [
      "    def search(A, target):\n",
      "        l = 0\n",
      "        h = len(A) - 1\n",
      "        while l <= h:\n",
      "            mid = (l + h) / 2\n",
      "            if A[mid] == target:\n",
      "                return mid\n",
      "            if A[l] <= A[mid]:\n",
      "                if A[l] <= target and target <= A[mid]:\n",
      "                    h = mid - 1\n",
      "                else:\n",
      "                    l = mid + 1\n",
      "                continue\n",
      "            if A[mid] <= A[h]:\n",
      "                if A[mid] <= target and target <= A[h]:\n",
      "                    l = mid + 1\n",
      "                else:\n",
      "                    h = mid - 1\n",
      "                continue\n",
      "        return -1\n",
      "    search([1], 1)"
     ],
     "language": "python",
     "metadata": {},
     "outputs": [
      {
       "metadata": {},
       "output_type": "pyout",
       "prompt_number": 16,
       "text": [
        "0"
       ]
      }
     ],
     "prompt_number": 16
    },
    {
     "cell_type": "code",
     "collapsed": false,
     "input": [],
     "language": "python",
     "metadata": {},
     "outputs": []
    }
   ],
   "metadata": {}
  }
 ]
}