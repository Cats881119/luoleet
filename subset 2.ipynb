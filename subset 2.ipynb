{
 "metadata": {
  "name": ""
 },
 "nbformat": 3,
 "nbformat_minor": 0,
 "worksheets": [
  {
   "cells": [
    {
     "cell_type": "code",
     "collapsed": false,
     "input": [
      "    def pickk(S, k):\n",
      "        if k == 0:\n",
      "            return []\n",
      "        if k == 1:\n",
      "            re = [[S[0]]]\n",
      "            for i in range(1, len(S)):\n",
      "                if S[i] != S[i-1]:\n",
      "                    re.append([S[i]])\n",
      "            return re\n",
      "        if k == len(S):\n",
      "            return [S[:]]\n",
      "        n = len(S)\n",
      "        re = []\n",
      "        for i in range(0, n-k+1):\n",
      "            if i != 0 and S[i] == S[i-1]:\n",
      "                continue\n",
      "            head = pickk(S[i:i+1], 1)\n",
      "            remain = pickk(S[i+1:n], k-1)\n",
      "            for j in range(0, len(head)):\n",
      "                for l in range(0, len(remain)):\n",
      "                    t = head[j][:]\n",
      "                    t.extend(remain[l][:])\n",
      "                    re.append(t)\n",
      "        return re\n",
      "    def subsetsWithDup(S):\n",
      "        n = len(S)\n",
      "        if n == 0:\n",
      "            return []\n",
      "        if n == 1:\n",
      "            return [S[:],[]]\n",
      "        S.sort()\n",
      "        re = []\n",
      "        for i in range(0, n+1):\n",
      "            t = pickk(S,i)\n",
      "            re.extend(t)\n",
      "        return re\n",
      "    re = subsetsWithDup([1,2,3])\n",
      "    print pickk([1,2,3],2)\n",
      "    #print re"
     ],
     "language": "python",
     "metadata": {},
     "outputs": [
      {
       "output_type": "stream",
       "stream": "stdout",
       "text": [
        "[[1, 2], [1, 3], [2, 3]]\n"
       ]
      }
     ],
     "prompt_number": 97
    },
    {
     "cell_type": "code",
     "collapsed": false,
     "input": [],
     "language": "python",
     "metadata": {},
     "outputs": []
    },
    {
     "cell_type": "code",
     "collapsed": false,
     "input": [],
     "language": "python",
     "metadata": {},
     "outputs": [],
     "prompt_number": 55
    },
    {
     "cell_type": "code",
     "collapsed": false,
     "input": [],
     "language": "python",
     "metadata": {},
     "outputs": []
    }
   ],
   "metadata": {}
  }
 ]
}