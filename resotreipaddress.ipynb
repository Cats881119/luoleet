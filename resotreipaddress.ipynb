{
 "metadata": {
  "name": ""
 },
 "nbformat": 3,
 "nbformat_minor": 0,
 "worksheets": [
  {
   "cells": [
    {
     "cell_type": "code",
     "collapsed": false,
     "input": [
      "    def restoreIpAddresses(s):\n",
      "        (b, r) = IPAdress(s, 4)\n",
      "        re = []\n",
      "        for i in range(0, len(r)):\n",
      "            re.append(list2ip(r[i]))\n",
      "        return re\n",
      "    def list2ip(lis):\n",
      "        li = lis[:]\n",
      "        li.insert(1, \".\")\n",
      "        li.insert(3, \".\")\n",
      "        li.insert(5, \".\")\n",
      "        return \"\".join(li)\n",
      "    def IPAdress(s, n):\n",
      "        if n == 1:\n",
      "            if len(s) < 1:\n",
      "                return (False, [])\n",
      "            num = s2n(s)\n",
      "            if num >= 0 and num <=255:\n",
      "                return (True, [[s]])\n",
      "        ns = len(s)\n",
      "        if ns > 3 * n or ns < n:\n",
      "            return (False, [])\n",
      "        re = []\n",
      "        for i in range(1, 4):\n",
      "            ts1 = s[0 : i]\n",
      "            ts2 = s[i : ns]\n",
      "            num1 = s2n(ts1)\n",
      "            if num1 >= 0 and num1 <= 255:\n",
      "                (b2, r2) = IPAdress(ts2, n-1)\n",
      "                if b2:\n",
      "                    for j in range(0, len(r2)):\n",
      "                        r = r2[j][:]\n",
      "                        r.insert(0, ts1)\n",
      "                        re.append(r)\n",
      "        return (len(re) > 0, re)\n",
      "    def s2n(s):\n",
      "        n = len(s)\n",
      "        if n > 1 and s[0] == '0':\n",
      "            return -1\n",
      "        re = 0\n",
      "        for i in range(0, n):\n",
      "            re = re * 10 + ord(s[i]) - 48\n",
      "        return re\n",
      "    restoreIpAddresses(\"010010\")\n",
      "        "
     ],
     "language": "python",
     "metadata": {},
     "outputs": [
      {
       "metadata": {},
       "output_type": "pyout",
       "prompt_number": 9,
       "text": [
        "['0.10.0.10', '0.100.1.0']"
       ]
      }
     ],
     "prompt_number": 9
    },
    {
     "cell_type": "code",
     "collapsed": false,
     "input": [],
     "language": "python",
     "metadata": {},
     "outputs": []
    }
   ],
   "metadata": {}
  }
 ]
}