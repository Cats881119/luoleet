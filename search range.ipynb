{
 "metadata": {
  "name": ""
 },
 "nbformat": 3,
 "nbformat_minor": 0,
 "worksheets": [
  {
   "cells": [
    {
     "cell_type": "code",
     "collapsed": false,
     "input": [
      "    def searchRange(A, target):\n",
      "        n = len(A)\n",
      "        if n == 0:\n",
      "            return [-1, -1]\n",
      "        l = 0\n",
      "        h = n - 1 \n",
      "        while True:\n",
      "            if l > h:\n",
      "                return [-1, -1]\n",
      "            if l == h:\n",
      "                if A[l] != target:\n",
      "                    return [-1, -1]\n",
      "                posm = l\n",
      "                break\n",
      "            mid = (l + h) / 2\n",
      "            if A[mid] == target:\n",
      "                posm = mid\n",
      "                break\n",
      "            if target < A[mid]:\n",
      "                h = mid -1\n",
      "            else:\n",
      "                l = mid + 1\n",
      "        l = 0\n",
      "        h = posm\n",
      "        while True:\n",
      "            if A[l] == target:\n",
      "                lower = l\n",
      "                break\n",
      "            mid = (l + h) / 2\n",
      "            if A[mid] == target:\n",
      "                h = mid - 1\n",
      "            else:\n",
      "                l = mid + 1\n",
      "        l = posm\n",
      "        h = n-1\n",
      "        while True:\n",
      "            if A[h] == target:\n",
      "                upper = h\n",
      "                break\n",
      "            mid = (l + h) / 2\n",
      "            if A[mid] == target:\n",
      "                l = mid + 1\n",
      "            else:\n",
      "                h = mid -1\n",
      "        return [lower, upper]\n",
      "    searchRange([5, 7, 7, 8, 8, 10],7)"
     ],
     "language": "python",
     "metadata": {},
     "outputs": [
      {
       "metadata": {},
       "output_type": "pyout",
       "prompt_number": 6,
       "text": [
        "[1, 2]"
       ]
      }
     ],
     "prompt_number": 6
    },
    {
     "cell_type": "code",
     "collapsed": false,
     "input": [],
     "language": "python",
     "metadata": {},
     "outputs": []
    }
   ],
   "metadata": {}
  }
 ]
}