{
 "metadata": {
  "name": ""
 },
 "nbformat": 3,
 "nbformat_minor": 0,
 "worksheets": [
  {
   "cells": [
    {
     "cell_type": "code",
     "collapsed": false,
     "input": [
      "    def isNumber(s):\n",
      "        if len(s) == 0:\n",
      "            return False\n",
      "        for i in range(0, len(s)):\n",
      "            if s[i] != \" \":\n",
      "                break\n",
      "        for j in range(len(s)-1, -1, -1):\n",
      "            if s[j] != \" \":\n",
      "                break\n",
      "        if i > j:\n",
      "            return False\n",
      "        ts = s[i : j + 1]\n",
      "        i = 0\n",
      "        while i < len(ts):\n",
      "            if ts[i] == \"e\":\n",
      "                break\n",
      "            i += 1\n",
      "        if i == len(ts):\n",
      "            return isnumwithoute(ts)\n",
      "        else:\n",
      "            ts1 = ts[0 : i]\n",
      "            ts2 = ts[i+1:len(ts)]\n",
      "            return isnumwithoute(ts1) and isnumwithoute(ts2)\n",
      "    \n",
      "    def isnumwithoute(s):\n",
      "        dot = False\n",
      "        if len(s) == 0:\n",
      "            return False\n",
      "        if s[0] == \"+\" or s[0] == \"-\":\n",
      "            if len(s) <2:\n",
      "                return False\n",
      "            for i in range(1, len(s)):\n",
      "                if s[i] == \".\":\n",
      "                    if dot == False:\n",
      "                        dot = True\n",
      "                        continue\n",
      "                    else:\n",
      "                        return False\n",
      "                if ord(s[i]) < 48 or ord(s[i]) > 57:\n",
      "                    return False\n",
      "            if dot and len(s) == 2:\n",
      "                return False\n",
      "            return True\n",
      "        else:\n",
      "            for i in range(0, len(s)):\n",
      "                if s[i] == \".\":\n",
      "                    if dot == False:\n",
      "                        dot = True\n",
      "                        continue\n",
      "                    else:\n",
      "                        return False\n",
      "                if ord(s[i]) < 48 or ord(s[i]) > 57:\n",
      "                    return False\n",
      "            if dot and len(s) == 1:\n",
      "                return False\n",
      "            return True\n",
      "    print isNumber(\"+.\")"
     ],
     "language": "python",
     "metadata": {},
     "outputs": [
      {
       "output_type": "stream",
       "stream": "stdout",
       "text": [
        "False\n"
       ]
      }
     ],
     "prompt_number": 20
    },
    {
     "cell_type": "code",
     "collapsed": false,
     "input": [],
     "language": "python",
     "metadata": {},
     "outputs": [],
     "prompt_number": 10
    },
    {
     "cell_type": "code",
     "collapsed": false,
     "input": [],
     "language": "python",
     "metadata": {},
     "outputs": []
    }
   ],
   "metadata": {}
  }
 ]
}