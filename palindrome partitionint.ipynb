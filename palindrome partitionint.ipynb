{
 "metadata": {
  "name": ""
 },
 "nbformat": 3,
 "nbformat_minor": 0,
 "worksheets": [
  {
   "cells": [
    {
     "cell_type": "code",
     "collapsed": false,
     "input": [
      "    import copy\n",
      "    def partition(s):\n",
      "        n = len(s)\n",
      "        L = []\n",
      "        t = []\n",
      "        for i in range(0, n):\n",
      "            t.append(0)\n",
      "        for i in range(0, n):\n",
      "            L.append(t[:])\n",
      "        for i in range(0, n):\n",
      "            L[i][i] = 1\n",
      "        for i in range(0, n-1):\n",
      "            if s[i] == s[i+1]:\n",
      "                L[i][i+1] = 1\n",
      "        for i in range (1, n-1):\n",
      "            j = i - 1\n",
      "            k = i + 1\n",
      "            while j >= 0 and k < n:\n",
      "                if s[j] == s[k]:\n",
      "                    L[j][k] = 1\n",
      "                    j = j - 1\n",
      "                    k = k + 1\n",
      "                else:\n",
      "                    break\n",
      "        for i in range (1, n-2):\n",
      "            if L[i][i+1] == 1:\n",
      "                j = i - 1\n",
      "                k = i + 2\n",
      "                while j >= 0 and k < n:\n",
      "                    if s[j] == s[k]:\n",
      "                        L[j][k] = 1\n",
      "                        j = j - 1\n",
      "                        k = k + 1\n",
      "                    else:\n",
      "                        break\n",
      "        re = [[[s[0]]]]\n",
      "        for i in range(1, n):\n",
      "            t = []\n",
      "            for j in range(i, -1, -1):\n",
      "                if L[j][i] == 1:\n",
      "                    if j > 0 and len(re[j-1]) > 0:\n",
      "                        for k in range(0, len(re[j-1])):\n",
      "                            t1 = re[j-1][k][:]\n",
      "                            t1.append(s[j:i+1])\n",
      "                            t.append(t1)\n",
      "                    elif j == 0:\n",
      "                        t1 = [s[0:i+1]]\n",
      "                        t.append(t1)\n",
      "            re.append(t)\n",
      "        return re[n-1]\n",
      "    print partition(\"abbab\")"
     ],
     "language": "python",
     "metadata": {},
     "outputs": [
      {
       "output_type": "stream",
       "stream": "stdout",
       "text": [
        "[['a', 'b', 'b', 'a', 'b'], ['a', 'bb', 'a', 'b'], ['abba', 'b'], ['a', 'b', 'bab']]\n"
       ]
      }
     ],
     "prompt_number": 46
    },
    {
     "cell_type": "code",
     "collapsed": false,
     "input": [],
     "language": "python",
     "metadata": {},
     "outputs": [],
     "prompt_number": 6
    },
    {
     "cell_type": "code",
     "collapsed": false,
     "input": [],
     "language": "python",
     "metadata": {},
     "outputs": [],
     "prompt_number": 81
    },
    {
     "cell_type": "code",
     "collapsed": false,
     "input": [],
     "language": "python",
     "metadata": {},
     "outputs": []
    }
   ],
   "metadata": {}
  }
 ]
}