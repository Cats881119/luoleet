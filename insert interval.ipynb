{
 "metadata": {
  "name": ""
 },
 "nbformat": 3,
 "nbformat_minor": 0,
 "worksheets": [
  {
   "cells": [
    {
     "cell_type": "code",
     "collapsed": false,
     "input": [
      "class Interval:\n",
      "    def __init__(self, s=0, e=0):\n",
      "        self.start = s\n",
      "        self.end = e\n",
      "class Solution:\n",
      "    # @param intervals, a list of Intervals\n",
      "    # @param newInterval, a Interval\n",
      "    # @return a list of Interval\n",
      "    def __init__(self, intervals, newInterval):\n",
      "        self.re = self.insert(intervals, newInterval)\n",
      "        for i in range(0, len(self.re)):\n",
      "            print (self.re[i].start, self.re[i].end)\n",
      "    def insert(self, intervals, newInterval):\n",
      "        n = len(intervals)\n",
      "        i = 0\n",
      "        re = intervals[:]\n",
      "        while i < n:\n",
      "            ti = self.pos(intervals[i], newInterval.start)\n",
      "            if ti == -1 or ti == 0:\n",
      "                break\n",
      "            i += 1\n",
      "        if i == n:\n",
      "            re.append(newInterval)\n",
      "            return re\n",
      "        j = n-1\n",
      "        while j >= 0:\n",
      "            tj = self.pos(intervals[j], newInterval.end)\n",
      "            if tj == 1 or tj == 0:\n",
      "                break\n",
      "            j -= 1\n",
      "        if j < 0:\n",
      "            re.insert(0, newInterval)\n",
      "            return re\n",
      "        print i, j, ti, tj\n",
      "        if ti == -1 and tj == 1:\n",
      "            re = intervals[0 : i]\n",
      "            t = Interval(newInterval.start, newInterval.end)\n",
      "            re.append(t)\n",
      "            re += intervals[j+1 : n]\n",
      "            return re\n",
      "        if ti == -1 and tj == 0:\n",
      "            re = intervals[0 : i]\n",
      "            t = Interval(newInterval.start, intervals[j].end)\n",
      "            re.append(t)\n",
      "            re += intervals[j+1 : n]\n",
      "            return re\n",
      "        if ti == 0 and tj == 1:\n",
      "            re = intervals[0 : i]\n",
      "            t = Interval(intervals[i].start, newInterval.end)\n",
      "            re.append(t)\n",
      "            re += intervals[j+1 : n]\n",
      "            return re\n",
      "        if ti == 0 and tj == 0:\n",
      "            re = intervals[0 : i]\n",
      "            t = Interval(intervals[i].start, intervals[j].end)\n",
      "            re.append(t)\n",
      "            re += intervals[j+1 : n]\n",
      "            return re\n",
      "        \n",
      "    def pos(self, interval, num):\n",
      "        if num < interval.start:\n",
      "            return -1\n",
      "        if num > interval.end:\n",
      "            return 1\n",
      "        return 0\n",
      "intervals = [Interval(1,3), Interval(6,9)]\n",
      "newInterval = Interval(0,6)\n",
      "a = Solution([Interval(1,5)], newInterval)"
     ],
     "language": "python",
     "metadata": {},
     "outputs": [
      {
       "output_type": "stream",
       "stream": "stdout",
       "text": [
        "0 0 -1 1\n",
        "(0, 6)\n"
       ]
      }
     ],
     "prompt_number": 20
    },
    {
     "cell_type": "code",
     "collapsed": false,
     "input": [],
     "language": "python",
     "metadata": {},
     "outputs": []
    }
   ],
   "metadata": {}
  }
 ]
}