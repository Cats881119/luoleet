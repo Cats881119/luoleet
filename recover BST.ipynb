{
 "metadata": {
  "name": ""
 },
 "nbformat": 3,
 "nbformat_minor": 0,
 "worksheets": [
  {
   "cells": [
    {
     "cell_type": "code",
     "collapsed": false,
     "input": [
      "    class TreeNode:\n",
      "        def __init__(self, x):\n",
      "            self.val = x\n",
      "            self.left = None\n",
      "            self.right = None\n",
      "\n",
      "    # @param root, a tree node\n",
      "    # @return a tree node\n",
      "    def recoverTree(root):\n",
      "        firstpair = False\n",
      "        s = []\n",
      "        gotoleftend(root, s)\n",
      "        while True:\n",
      "            t = s[len(s)-1]\n",
      "            s.pop()\n",
      "            if len(s) == 0:\n",
      "                break\n",
      "            if t.right == s[len(s)-1]:\n",
      "                s.pop()\n",
      "                gotoleftend(t.right,s)\n",
      "            if t.val >= s[len(s)-1].val:\n",
      "                if firstpair == False:\n",
      "                    n1 = t\n",
      "                    n2 = s[len(s)-1]\n",
      "                    first\n",
      "                else:\n",
      "                    n2 = s[len(s)-1]\n",
      "        print n1.val, n2.val\n",
      "        if firstpair:\n",
      "            t = n1.val\n",
      "            n1.val = n2.val\n",
      "            n2.val = t\n",
      "        print n1.val, n2.val\n",
      "        return root\n",
      "        \n",
      "        \n",
      "    def gotoleftend(root, s):\n",
      "        while root != None:\n",
      "            if root.right != None:\n",
      "                s.append(root.right)\n",
      "            s.append(root)\n",
      "            root = root.left\n",
      "    root = TreeNode(0)\n",
      "    root.left = TreeNode(1)\n",
      "    recoverTree(root)\n",
      "    print root.val"
     ],
     "language": "python",
     "metadata": {},
     "outputs": [
      {
       "output_type": "stream",
       "stream": "stdout",
       "text": [
        "1 0\n",
        "1 0\n",
        "0\n"
       ]
      }
     ],
     "prompt_number": 24
    },
    {
     "cell_type": "code",
     "collapsed": false,
     "input": [],
     "language": "python",
     "metadata": {},
     "outputs": []
    }
   ],
   "metadata": {}
  }
 ]
}