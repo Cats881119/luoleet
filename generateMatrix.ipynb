{
 "metadata": {
  "name": ""
 },
 "nbformat": 3,
 "nbformat_minor": 0,
 "worksheets": [
  {
   "cells": [
    {
     "cell_type": "code",
     "collapsed": false,
     "input": [
      "    def generateMatrix(n):\n",
      "        if n == 0:\n",
      "            return []\n",
      "        t = [0] * n\n",
      "        re = []\n",
      "        for i in range(0, n):\n",
      "            re.append(t[:])\n",
      "        left = 0\n",
      "        right = n-1\n",
      "        up = 0\n",
      "        down = n-1\n",
      "        num = n * n\n",
      "        i = 0\n",
      "        while left <= right and up <= down:\n",
      "            pi = up\n",
      "            pj = left\n",
      "            while True:\n",
      "                i += 1\n",
      "                re[pi][pj] = i\n",
      "                if i >= num:\n",
      "                    break\n",
      "                if pi == up:\n",
      "                    if pj < right:\n",
      "                        pj += 1\n",
      "                    else:\n",
      "                        pi += 1\n",
      "                elif pj == right:\n",
      "                    if pi < down:\n",
      "                        pi += 1\n",
      "                    else:\n",
      "                        pj -= 1\n",
      "                elif pi == down:\n",
      "                    if pj > left:\n",
      "                        pj -= 1\n",
      "                    else:\n",
      "                        pi -= 1\n",
      "                elif pj == left:\n",
      "                    pi -= 1\n",
      "                if pi == up and pj == left:\n",
      "                    break\n",
      "            up += 1\n",
      "            down -= 1\n",
      "            left += 1\n",
      "            right -= 1\n",
      "        return re\n",
      "    generateMatrix(3)"
     ],
     "language": "python",
     "metadata": {},
     "outputs": [
      {
       "metadata": {},
       "output_type": "pyout",
       "prompt_number": 8,
       "text": [
        "[[1, 2, 3], [8, 9, 4], [7, 6, 5]]"
       ]
      }
     ],
     "prompt_number": 8
    },
    {
     "cell_type": "code",
     "collapsed": false,
     "input": [],
     "language": "python",
     "metadata": {},
     "outputs": []
    }
   ],
   "metadata": {}
  }
 ]
}