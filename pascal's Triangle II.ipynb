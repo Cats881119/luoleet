{
 "metadata": {
  "name": ""
 },
 "nbformat": 3,
 "nbformat_minor": 0,
 "worksheets": [
  {
   "cells": [
    {
     "cell_type": "code",
     "collapsed": false,
     "input": [
      "    def getRow(rowIndex):\n",
      "        if rowIndex == 0:\n",
      "            return [1]\n",
      "        if rowIndex == 1:\n",
      "            return [1,1]\n",
      "        old = [1,1]\n",
      "        for i in range(2, rowIndex+1):\n",
      "            new = [1]\n",
      "            for j in range(0, len(old)-1):\n",
      "                new.append(old[j] + old[j+1])\n",
      "            new.append(1)\n",
      "            old = new[:]\n",
      "        return new\n",
      "    getRow(5)"
     ],
     "language": "python",
     "metadata": {},
     "outputs": [
      {
       "metadata": {},
       "output_type": "pyout",
       "prompt_number": 5,
       "text": [
        "[1, 5, 10, 10, 5, 1]"
       ]
      }
     ],
     "prompt_number": 5
    },
    {
     "cell_type": "code",
     "collapsed": false,
     "input": [],
     "language": "python",
     "metadata": {},
     "outputs": []
    }
   ],
   "metadata": {}
  }
 ]
}