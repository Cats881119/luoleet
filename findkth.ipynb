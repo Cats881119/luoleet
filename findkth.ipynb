{
 "metadata": {
  "name": ""
 },
 "nbformat": 3,
 "nbformat_minor": 0,
 "worksheets": [
  {
   "cells": [
    {
     "cell_type": "code",
     "collapsed": false,
     "input": [
      "    def findk(A, B, k):\n",
      "        m = len(A)\n",
      "        n = len(B)\n",
      "        if m > n:\n",
      "            return findMedianSortedArrays(B, A, k)\n",
      "        if m == 0:\n",
      "            return B[k-1]\n",
      "        if k == 1:\n",
      "            return min(A[0], B[0])\n",
      "        a = min(k/2, m)\n",
      "        b = k - a\n",
      "        if A[a-1] == B[b-1]:\n",
      "            return A[a-1]\n",
      "        if A[a-1] < B[b-1]:\n",
      "            return findk(A[a:m], B, k - a)\n",
      "        else:\n",
      "            return findk(A, B[b:n], k - b)\n",
      "    findk([1,3,5,7], [2,4,6,8], 6)"
     ],
     "language": "python",
     "metadata": {},
     "outputs": [
      {
       "metadata": {},
       "output_type": "pyout",
       "prompt_number": 13,
       "text": [
        "6"
       ]
      }
     ],
     "prompt_number": 13
    },
    {
     "cell_type": "code",
     "collapsed": false,
     "input": [],
     "language": "python",
     "metadata": {},
     "outputs": []
    }
   ],
   "metadata": {}
  }
 ]
}