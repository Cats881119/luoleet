{
 "metadata": {
  "name": ""
 },
 "nbformat": 3,
 "nbformat_minor": 0,
 "worksheets": [
  {
   "cells": [
    {
     "cell_type": "code",
     "collapsed": false,
     "input": [
      "    def findLadders(start, end, dict):\n",
      "        preword = {}\n",
      "        n = len(start)\n",
      "        visited = set()\n",
      "        current = set()\n",
      "        visited.add(start)\n",
      "        visited.add(end)\n",
      "        qw = [start]\n",
      "        ql = [1]\n",
      "        current_level = 2\n",
      "        found = False\n",
      "        while len(ql) > 0:\n",
      "            tempstr = qw[0]\n",
      "            level = ql[0]\n",
      "            qw.pop(0)\n",
      "            ql.pop(0)\n",
      "            if level == current_level:\n",
      "                if found == True:\n",
      "                    break\n",
      "                current = set()\n",
      "                current_level += 1\n",
      "            templist = list(tempstr)\n",
      "            for i in range(0, n):\n",
      "                for nc in range(ord('a'), ord('z')+1):\n",
      "                    c = chr(nc)\n",
      "                    tc = templist[i]\n",
      "                    templist[i] = c\n",
      "                    c = tc\n",
      "                    newtempstr = \"\".join(templist)\n",
      "                    if newtempstr == end:\n",
      "                        found = True\n",
      "                        if preword.has_key(end) == False:\n",
      "                            preword[end] = [tempstr]\n",
      "                        else:\n",
      "                            preword[end].append(tempstr)\n",
      "                        tc = templist[i]\n",
      "                        templist[i] = c\n",
      "                        c = tc\n",
      "                        continue\n",
      "                    if newtempstr in dict:\n",
      "                        if newtempstr in current:\n",
      "                            preword[newtempstr].append(tempstr)\n",
      "                        elif newtempstr not in visited:\n",
      "                            visited.add(newtempstr)\n",
      "                            qw.append(newtempstr)\n",
      "                            ql.append(level + 1)\n",
      "                            current.add(newtempstr)\n",
      "                            preword[newtempstr] = [tempstr]\n",
      "                    tc = templist[i]\n",
      "                    templist[i] = c\n",
      "                    c = tc\n",
      "        s = []\n",
      "        result = []\n",
      "        if found == False:\n",
      "            return result\n",
      "        gener(start, end, preword, s, result)\n",
      "        return result\n",
      "    def gener(start, end, preword, s, result):\n",
      "        if end == start:\n",
      "            s.insert(0,start)\n",
      "            result.append(s)\n",
      "            return\n",
      "        s.insert(0,end)\n",
      "        for i in range(0, len(preword[end])):\n",
      "            ts = s[:]\n",
      "            gener(start, preword[end][i][:], preword, ts, result)\n",
      "    dict = set([\"dose\",\"ends\",\"dine\",\"jars\",\"prow\",\"soap\",\"guns\",\"hops\",\"cray\",\"hove\",\"ella\",\"hour\",\"lens\",\"jive\",\"wiry\",\"earl\",\"mara\",\"part\",\"flue\",\"putt\",\"rory\",\"bull\",\"york\",\"ruts\",\"lily\",\"vamp\",\"bask\",\"peer\",\"boat\",\"dens\",\"lyre\",\"jets\",\"wide\",\"rile\",\"boos\",\"down\",\"path\",\"onyx\",\"mows\",\"toke\",\"soto\",\"dork\",\"nape\",\"mans\",\"loin\",\"jots\",\"male\",\"sits\",\"minn\",\"sale\",\"pets\",\"hugo\",\"woke\",\"suds\",\"rugs\",\"vole\",\"warp\",\"mite\",\"pews\",\"lips\",\"pals\",\"nigh\",\"sulk\",\"vice\",\"clod\",\"iowa\",\"gibe\",\"shad\",\"carl\",\"huns\",\"coot\",\"sera\",\"mils\",\"rose\",\"orly\",\"ford\",\"void\",\"time\",\"eloy\",\"risk\",\"veep\",\"reps\",\"dolt\",\"hens\",\"tray\",\"melt\",\"rung\",\"rich\",\"saga\",\"lust\",\"yews\",\"rode\",\"many\",\"cods\",\"rape\",\"last\",\"tile\",\"nosy\",\"take\",\"nope\",\"toni\",\"bank\",\"jock\",\"jody\",\"diss\",\"nips\",\"bake\",\"lima\",\"wore\",\"kins\",\"cult\",\"hart\",\"wuss\",\"tale\",\"sing\",\"lake\",\"bogy\",\"wigs\",\"kari\",\"magi\",\"bass\",\"pent\",\"tost\",\"fops\",\"bags\",\"duns\",\"will\",\"tart\",\"drug\",\"gale\",\"mold\",\"disk\",\"spay\",\"hows\",\"naps\",\"puss\",\"gina\",\"kara\",\"zorn\",\"boll\",\"cams\",\"boas\",\"rave\",\"sets\",\"lego\",\"hays\",\"judy\",\"chap\",\"live\",\"bahs\",\"ohio\",\"nibs\",\"cuts\",\"pups\",\"data\",\"kate\",\"rump\",\"hews\",\"mary\",\"stow\",\"fang\",\"bolt\",\"rues\",\"mesh\",\"mice\",\"rise\",\"rant\",\"dune\",\"jell\",\"laws\",\"jove\",\"bode\",\"sung\",\"nils\",\"vila\",\"mode\",\"hued\",\"cell\",\"fies\",\"swat\",\"wags\",\"nate\",\"wist\",\"honk\",\"goth\",\"told\",\"oise\",\"wail\",\"tels\",\"sore\",\"hunk\",\"mate\",\"luke\",\"tore\",\"bond\",\"bast\",\"vows\",\"ripe\",\"fond\",\"benz\",\"firs\",\"zeds\",\"wary\",\"baas\",\"wins\",\"pair\",\"tags\",\"cost\",\"woes\",\"buns\",\"lend\",\"bops\",\"code\",\"eddy\",\"siva\",\"oops\",\"toed\",\"bale\",\"hutu\",\"jolt\",\"rife\",\"darn\",\"tape\",\"bold\",\"cope\",\"cake\",\"wisp\",\"vats\",\"wave\",\"hems\",\"bill\",\"cord\",\"pert\",\"type\",\"kroc\",\"ucla\",\"albs\",\"yoko\",\"silt\",\"pock\",\"drub\",\"puny\",\"fads\",\"mull\",\"pray\",\"mole\",\"talc\",\"east\",\"slay\",\"jamb\",\"mill\",\"dung\",\"jack\",\"lynx\",\"nome\",\"leos\",\"lade\",\"sana\",\"tike\",\"cali\",\"toge\",\"pled\",\"mile\",\"mass\",\"leon\",\"sloe\",\"lube\",\"kans\",\"cory\",\"burs\",\"race\",\"toss\",\"mild\",\"tops\",\"maze\",\"city\",\"sadr\",\"bays\",\"poet\",\"volt\",\"laze\",\"gold\",\"zuni\",\"shea\",\"gags\",\"fist\",\"ping\",\"pope\",\"cora\",\"yaks\",\"cosy\",\"foci\",\"plan\",\"colo\",\"hume\",\"yowl\",\"craw\",\"pied\",\"toga\",\"lobs\",\"love\",\"lode\",\"duds\",\"bled\",\"juts\",\"gabs\",\"fink\",\"rock\",\"pant\",\"wipe\",\"pele\",\"suez\",\"nina\",\"ring\",\"okra\",\"warm\",\"lyle\",\"gape\",\"bead\",\"lead\",\"jane\",\"oink\",\"ware\",\"zibo\",\"inns\",\"mope\",\"hang\",\"made\",\"fobs\",\"gamy\",\"fort\",\"peak\",\"gill\",\"dino\",\"dina\",\"tier\"])\n",
      "    result = findLadders(\"nape\", \"mild\", dict)\n",
      "    print result\n",
      "    print len(result)"
     ],
     "language": "python",
     "metadata": {},
     "outputs": [
      {
       "output_type": "stream",
       "stream": "stdout",
       "text": [
        "[['nape', 'gape', 'gale', 'male', 'mile', 'mild'], ['nape', 'tape', 'tale', 'male', 'mile', 'mild'], ['nape', 'nate', 'mate', 'male', 'mile', 'mild'], ['nape', 'rape', 'ripe', 'rile', 'mile', 'mild'], ['nape', 'tape', 'tale', 'tile', 'mile', 'mild'], ['nape', 'nope', 'mope', 'mole', 'mile', 'mild'], ['nape', 'nate', 'mate', 'mite', 'mile', 'mild'], ['nape', 'nope', 'mope', 'mole', 'mold', 'mild'], ['nape', 'naps', 'nips', 'nils', 'mils', 'mild']]\n",
        "9\n"
       ]
      }
     ],
     "prompt_number": 53
    },
    {
     "cell_type": "code",
     "collapsed": false,
     "input": [],
     "language": "python",
     "metadata": {},
     "outputs": [],
     "prompt_number": 36
    },
    {
     "cell_type": "code",
     "collapsed": false,
     "input": [],
     "language": "python",
     "metadata": {},
     "outputs": []
    }
   ],
   "metadata": {}
  }
 ]
}