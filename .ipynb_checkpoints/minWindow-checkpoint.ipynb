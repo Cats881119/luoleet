{
 "metadata": {
  "name": ""
 },
 "nbformat": 3,
 "nbformat_minor": 0,
 "worksheets": [
  {
   "cells": [
    {
     "cell_type": "code",
     "collapsed": false,
     "input": [
      "    def minWindow(S, T):\n",
      "        dic = {}\n",
      "        cur = {}\n",
      "        nt = len(T)\n",
      "        for i in range(0, nt):\n",
      "            if dic.has_key(T[i]) == False:\n",
      "                dic[T[i]] = 1\n",
      "            else:\n",
      "                dic[T[i]] += 1\n",
      "            cur[T[i]] = 0\n",
      "        n = len(S)\n",
      "        for i in range(0, n):\n",
      "            if dic.has_key(S[i]):\n",
      "                break\n",
      "        j = i\n",
      "        length = 0\n",
      "        Min = -1\n",
      "        Found = False\n",
      "        while j < n:\n",
      "            if dic.has_key(S[j]):\n",
      "                cur[S[j]] += 1\n",
      "                if cur[S[j]] <= dic[S[j]]:\n",
      "                    length += 1\n",
      "            if length == nt:\n",
      "                Found = True\n",
      "                while True:\n",
      "                    if dic.has_key(S[i]): \n",
      "                        if cur[S[i]] > dic[S[i]]:\n",
      "                            cur[S[i]] -= 1\n",
      "                            if cur[S[i]] <= dic[S[i]]:\n",
      "                                i\n",
      "                        else:\n",
      "                            break\n",
      "                    i += 1\n",
      "                if j-i < Min or Min < 0:\n",
      "                    Min = j-i\n",
      "                    mi = i\n",
      "                    mj = j\n",
      "                while True:\n",
      "                    if i >= j:\n",
      "                        break\n",
      "                    if dic.has_key(S[i]):\n",
      "                        if cur[S[i]] >= dic[S[i]]:\n",
      "                            cur[S[i]] -= 1\n",
      "                        else:\n",
      "                            break\n",
      "                    i += 1\n",
      "            j += 1\n",
      "        if Found:\n",
      "            return S[mi: mj+1]\n",
      "        else:\n",
      "            return \"\"\n",
      "    minWindow(\"abc\",\"a\")"
     ],
     "language": "python",
     "metadata": {},
     "outputs": [
      {
       "ename": "IndexError",
       "evalue": "string index out of range",
       "output_type": "pyerr",
       "traceback": [
        "\u001b[0;31m---------------------------------------------------------------------------\u001b[0m\n\u001b[0;31mIndexError\u001b[0m                                Traceback (most recent call last)",
        "\u001b[0;32m<ipython-input-9-8dd130d2b8e3>\u001b[0m in \u001b[0;36m<module>\u001b[0;34m()\u001b[0m\n\u001b[1;32m     49\u001b[0m     \u001b[0;32melse\u001b[0m\u001b[0;34m:\u001b[0m\u001b[0;34m\u001b[0m\u001b[0m\n\u001b[1;32m     50\u001b[0m         \u001b[0;32mreturn\u001b[0m \u001b[0;34m\"\"\u001b[0m\u001b[0;34m\u001b[0m\u001b[0m\n\u001b[0;32m---> 51\u001b[0;31m \u001b[0mminWindow\u001b[0m\u001b[0;34m(\u001b[0m\u001b[0;34m\"abc\"\u001b[0m\u001b[0;34m,\u001b[0m\u001b[0;34m\"a\"\u001b[0m\u001b[0;34m)\u001b[0m\u001b[0;34m\u001b[0m\u001b[0m\n\u001b[0m",
        "\u001b[0;32m<ipython-input-9-8dd130d2b8e3>\u001b[0m in \u001b[0;36mminWindow\u001b[0;34m(S, T)\u001b[0m\n\u001b[1;32m     25\u001b[0m             \u001b[0mFound\u001b[0m \u001b[0;34m=\u001b[0m \u001b[0mTrue\u001b[0m\u001b[0;34m\u001b[0m\u001b[0m\n\u001b[1;32m     26\u001b[0m             \u001b[0;32mwhile\u001b[0m \u001b[0mTrue\u001b[0m\u001b[0;34m:\u001b[0m\u001b[0;34m\u001b[0m\u001b[0m\n\u001b[0;32m---> 27\u001b[0;31m                 \u001b[0;32mif\u001b[0m \u001b[0mdic\u001b[0m\u001b[0;34m.\u001b[0m\u001b[0mhas_key\u001b[0m\u001b[0;34m(\u001b[0m\u001b[0mS\u001b[0m\u001b[0;34m[\u001b[0m\u001b[0mi\u001b[0m\u001b[0;34m]\u001b[0m\u001b[0;34m)\u001b[0m\u001b[0;34m:\u001b[0m\u001b[0;34m\u001b[0m\u001b[0m\n\u001b[0m\u001b[1;32m     28\u001b[0m                     \u001b[0;32mif\u001b[0m \u001b[0mcur\u001b[0m\u001b[0;34m[\u001b[0m\u001b[0mS\u001b[0m\u001b[0;34m[\u001b[0m\u001b[0mi\u001b[0m\u001b[0;34m]\u001b[0m\u001b[0;34m]\u001b[0m \u001b[0;34m>\u001b[0m \u001b[0mdic\u001b[0m\u001b[0;34m[\u001b[0m\u001b[0mS\u001b[0m\u001b[0;34m[\u001b[0m\u001b[0mi\u001b[0m\u001b[0;34m]\u001b[0m\u001b[0;34m]\u001b[0m\u001b[0;34m:\u001b[0m\u001b[0;34m\u001b[0m\u001b[0m\n\u001b[1;32m     29\u001b[0m                         \u001b[0mcur\u001b[0m\u001b[0;34m[\u001b[0m\u001b[0mS\u001b[0m\u001b[0;34m[\u001b[0m\u001b[0mi\u001b[0m\u001b[0;34m]\u001b[0m\u001b[0;34m]\u001b[0m \u001b[0;34m-=\u001b[0m \u001b[0;36m1\u001b[0m\u001b[0;34m\u001b[0m\u001b[0m\n",
        "\u001b[0;31mIndexError\u001b[0m: string index out of range"
       ]
      }
     ],
     "prompt_number": 9
    },
    {
     "cell_type": "code",
     "collapsed": false,
     "input": [],
     "language": "python",
     "metadata": {},
     "outputs": []
    }
   ],
   "metadata": {}
  }
 ]
}