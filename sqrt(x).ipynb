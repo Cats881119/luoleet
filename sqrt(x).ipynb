{
 "metadata": {
  "name": ""
 },
 "nbformat": 3,
 "nbformat_minor": 0,
 "worksheets": [
  {
   "cells": [
    {
     "cell_type": "code",
     "collapsed": false,
     "input": [
      "    def sqrt(x):\n",
      "        if x == 0:\n",
      "            return 0\n",
      "        if x <= 3:\n",
      "            return 1\n",
      "        if x == 4:\n",
      "            return 2\n",
      "        l = 1\n",
      "        h = x / 2\n",
      "        while l < h:\n",
      "            mid = (l + h) / 2\n",
      "            if mid == x / mid or (mid < x / mid and mid + 1 > x / (mid+1)):\n",
      "                return mid\n",
      "            if mid > x / mid:\n",
      "                h = mid - 1\n",
      "            else:\n",
      "                l = mid + 1\n",
      "        return l\n",
      "    print sqrt(6)"
     ],
     "language": "python",
     "metadata": {},
     "outputs": [
      {
       "output_type": "stream",
       "stream": "stdout",
       "text": [
        "2\n"
       ]
      }
     ],
     "prompt_number": 1
    },
    {
     "cell_type": "code",
     "collapsed": false,
     "input": [],
     "language": "python",
     "metadata": {},
     "outputs": []
    }
   ],
   "metadata": {}
  }
 ]
}