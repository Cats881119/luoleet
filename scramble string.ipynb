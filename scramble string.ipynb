{
 "metadata": {
  "name": ""
 },
 "nbformat": 3,
 "nbformat_minor": 0,
 "worksheets": [
  {
   "cells": [
    {
     "cell_type": "code",
     "collapsed": false,
     "input": [
      "    def isScramble(s1, s2):\n",
      "        if len(s1) != len(s2):\n",
      "            return False\n",
      "        N = len(s1)\n",
      "        L = []\n",
      "        for n in range(0, N+1):\n",
      "            L.append([])\n",
      "            for i in range(0, N):\n",
      "                L[n].append([False] * N)\n",
      "        for i in range(0, N):\n",
      "            for j in range(0, N):\n",
      "                if s1[i] == s2[j]:\n",
      "                    L[1][i][j] = True\n",
      "        for n in range(2, N+1):\n",
      "            for i in range(0, N):\n",
      "                if N - i < n:\n",
      "                    break\n",
      "                for j in range(0, N):\n",
      "                    if N - j < n:\n",
      "                        break\n",
      "                    for si in range(1, n):\n",
      "                        if L[n][i][j]:\n",
      "                            break\n",
      "                        for sj in range(1, n):\n",
      "                            lefti = i\n",
      "                            righti = i + si\n",
      "                            lenlefti = si\n",
      "                            lenrighti = n - si\n",
      "                            leftj = j\n",
      "                            rightj = j + sj\n",
      "                            lenleftj = sj\n",
      "                            lenrightj = n - sj\n",
      "                            if lenlefti == lenleftj:\n",
      "                                if L[lenlefti][lefti][leftj] and L[lenrighti][righti][rightj]:\n",
      "                                    L[n][i][j] = True\n",
      "                                    break\n",
      "                            if lenlefti == lenrightj:\n",
      "                                if L[lenlefti][lefti][rightj] and L[lenrighti][righti][leftj]:\n",
      "                                    L[n][i][j] = True\n",
      "                                    break\n",
      "        return L[n][0][0]\n",
      "    print isScramble(\"aqpuhhtophtbvhtqvudvkhkoilatay\", \"aayatliohkkvduqvthvbthpothhupq\")"
     ],
     "language": "python",
     "metadata": {},
     "outputs": [
      {
       "output_type": "stream",
       "stream": "stdout",
       "text": [
        "True\n"
       ]
      }
     ],
     "prompt_number": 34
    },
    {
     "cell_type": "code",
     "collapsed": false,
     "input": [],
     "language": "python",
     "metadata": {},
     "outputs": [],
     "prompt_number": 13
    },
    {
     "cell_type": "code",
     "collapsed": false,
     "input": [],
     "language": "python",
     "metadata": {},
     "outputs": []
    }
   ],
   "metadata": {}
  }
 ]
}