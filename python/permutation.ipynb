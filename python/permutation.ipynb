{
 "metadata": {
  "name": ""
 },
 "nbformat": 3,
 "nbformat_minor": 0,
 "worksheets": [
  {
   "cells": [
    {
     "cell_type": "code",
     "collapsed": false,
     "input": [
      "    def permute(num):\n",
      "        num.sort()\n",
      "        re = []\n",
      "        n = len(num)\n",
      "        if n == 0:\n",
      "            return re\n",
      "        if n == 1:\n",
      "            return [num]\n",
      "        re = [num[:]]\n",
      "        while True:\n",
      "            i = n-2\n",
      "            while i >= 0:\n",
      "                if num[i] < num[i+1]:\n",
      "                    for j in range(n-1, i, -1):\n",
      "                        if num[j] > num[i]:\n",
      "                            t = num[i]\n",
      "                            num[i] = num[j]\n",
      "                            num[j] = t\n",
      "                            break\n",
      "                    k = i+1\n",
      "                    j = n-1\n",
      "                    while k < j:\n",
      "                        t = num[k]\n",
      "                        num[k] = num[j]\n",
      "                        num[j] = t\n",
      "                        k += 1\n",
      "                        j -= 1\n",
      "                    re.append(num[:])\n",
      "                    break\n",
      "                i -= 1\n",
      "            if i < 0:\n",
      "                break\n",
      "        return re\n",
      "    permute([1,2,3])"
     ],
     "language": "python",
     "metadata": {},
     "outputs": [
      {
       "metadata": {},
       "output_type": "pyout",
       "prompt_number": 9,
       "text": [
        "[[1, 2, 3], [1, 3, 2], [2, 1, 3], [2, 3, 1], [3, 1, 2], [3, 2, 1]]"
       ]
      }
     ],
     "prompt_number": 9
    },
    {
     "cell_type": "code",
     "collapsed": false,
     "input": [],
     "language": "python",
     "metadata": {},
     "outputs": []
    }
   ],
   "metadata": {}
  }
 ]
}