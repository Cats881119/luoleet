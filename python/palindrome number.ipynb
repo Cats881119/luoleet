{
 "metadata": {
  "name": ""
 },
 "nbformat": 3,
 "nbformat_minor": 0,
 "worksheets": [
  {
   "cells": [
    {
     "cell_type": "code",
     "collapsed": false,
     "input": [
      "    def kk(x):\n",
      "        if x < 0:\n",
      "            return False\n",
      "        n = 1\n",
      "        while x / n >= 10:\n",
      "            n *= 10\n",
      "        while x > 0:\n",
      "            if x % 10 != x / n:\n",
      "                return False\n",
      "            x -= (x / n) * n\n",
      "            x /= 10\n",
      "            n /= 100\n",
      "        return True\n",
      "    kk(1021)\n",
      "        "
     ],
     "language": "python",
     "metadata": {},
     "outputs": [
      {
       "metadata": {},
       "output_type": "pyout",
       "prompt_number": 14,
       "text": [
        "False"
       ]
      }
     ],
     "prompt_number": 14
    },
    {
     "cell_type": "code",
     "collapsed": false,
     "input": [],
     "language": "python",
     "metadata": {},
     "outputs": []
    }
   ],
   "metadata": {}
  }
 ]
}