{
 "metadata": {
  "name": ""
 },
 "nbformat": 3,
 "nbformat_minor": 0,
 "worksheets": [
  {
   "cells": [
    {
     "cell_type": "code",
     "collapsed": false,
     "input": [
      "    def wordBreak(s, dict):\n",
      "        n = len(s)\n",
      "        L = []\n",
      "        if n == 1:\n",
      "            if s in dict:\n",
      "                L.append(s)\n",
      "            return L\n",
      "        for i in range(n-1, 0, -1):\n",
      "            ts = s[i:n]\n",
      "            if ts in dict:\n",
      "                tf = s[0:i]\n",
      "                K = wordBreak(tf, dict)\n",
      "                for j in range(0, len(K)):\n",
      "                    tf = K[j] + \" \" + ts\n",
      "                    L.append(tf)\n",
      "        if s in dict:\n",
      "            L.append(s)\n",
      "        return L\n",
      "    dict = set([\"a\",\"b\"])\n",
      "    s = \"ab\"\n",
      "    print wordBreak(s,dict)"
     ],
     "language": "python",
     "metadata": {},
     "outputs": [
      {
       "output_type": "stream",
       "stream": "stdout",
       "text": [
        "['a b']\n"
       ]
      }
     ],
     "prompt_number": 48
    },
    {
     "cell_type": "code",
     "collapsed": false,
     "input": [],
     "language": "python",
     "metadata": {},
     "outputs": [],
     "prompt_number": 30
    },
    {
     "cell_type": "code",
     "collapsed": false,
     "input": [],
     "language": "python",
     "metadata": {},
     "outputs": [],
     "prompt_number": 4
    },
    {
     "cell_type": "code",
     "collapsed": false,
     "input": [],
     "language": "python",
     "metadata": {},
     "outputs": []
    }
   ],
   "metadata": {}
  }
 ]
}