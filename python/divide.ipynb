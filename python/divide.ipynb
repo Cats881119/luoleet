{
 "metadata": {
  "name": ""
 },
 "nbformat": 3,
 "nbformat_minor": 0,
 "worksheets": [
  {
   "cells": [
    {
     "cell_type": "code",
     "collapsed": false,
     "input": [
      "    def dividepos(dividend, divisor):\n",
      "        multi = 1\n",
      "        a = divisor\n",
      "        re = 0\n",
      "        while True:\n",
      "            if dividend < a:\n",
      "                if multi == 1:\n",
      "                    return re\n",
      "                else:\n",
      "                    multi = 1\n",
      "                    a = divisor\n",
      "                    continue\n",
      "            dividend -= a\n",
      "            re += multi\n",
      "            a = a + a\n",
      "            multi = multi + multi\n",
      "        return re\n",
      "    print dividepos(100,3)"
     ],
     "language": "python",
     "metadata": {},
     "outputs": [
      {
       "output_type": "stream",
       "stream": "stdout",
       "text": [
        "33\n"
       ]
      }
     ],
     "prompt_number": 8
    },
    {
     "cell_type": "code",
     "collapsed": false,
     "input": [],
     "language": "python",
     "metadata": {},
     "outputs": []
    }
   ],
   "metadata": {}
  }
 ]
}