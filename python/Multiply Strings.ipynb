{
 "metadata": {
  "name": ""
 },
 "nbformat": 3,
 "nbformat_minor": 0,
 "worksheets": [
  {
   "cells": [
    {
     "cell_type": "code",
     "collapsed": false,
     "input": [
      "    def multiply(num1, num2):\n",
      "        n1 = len(num1)\n",
      "        n2 = len(num2)\n",
      "        re = \"0\"\n",
      "        for i in range(n2-1, -1, -1):\n",
      "            t = singlemultiply(num1, num2[i])\n",
      "            if t != \"0\":\n",
      "                t += \"0\" * (n2-1-i)\n",
      "            re = add(re, t)\n",
      "        return re\n",
      "            \n",
      "    def singlemultiply(num, dig):\n",
      "        n = len(num)\n",
      "        digit = ord(dig) - 48\n",
      "        carry = 0\n",
      "        re = []\n",
      "        for i in range(n-1, -1, -1):\n",
      "            base = digit * (ord(num[i]) - 48) + carry\n",
      "            carry = base / 10\n",
      "            base = base % 10\n",
      "            re.append(chr(base + 48))\n",
      "        if carry > 0:\n",
      "            re.append(chr(carry + 48))\n",
      "        re.reverse()\n",
      "        if re[0] == \"0\":\n",
      "            return \"0\"\n",
      "        return \"\".join(re)\n",
      "    def add(num1, num2):\n",
      "        carry = 0\n",
      "        n1 = len(num1)\n",
      "        n2 = len(num2)\n",
      "        i = n1 - 1\n",
      "        j = n2 - 1\n",
      "        re = []\n",
      "        while i >= 0 and j >= 0:\n",
      "            base = ord(num1[i]) + ord(num2[j]) - 96 + carry\n",
      "            if base >= 10:\n",
      "                carry = 1\n",
      "                base -= 10\n",
      "            else:\n",
      "                carry = 0\n",
      "            i -= 1\n",
      "            j -= 1\n",
      "            re.append(chr(base + 48))\n",
      "        while i >= 0:\n",
      "            base = ord(num1[i]) - 48 + carry\n",
      "            if base >= 10:\n",
      "                carry = 1\n",
      "                base -= 10\n",
      "            else:\n",
      "                carry = 0\n",
      "            i -= 1\n",
      "            re.append(chr(base + 48))\n",
      "        while j >= 0:\n",
      "            base = ord(num2[j]) - 48 + carry\n",
      "            if base >= 10:\n",
      "                carry = 1\n",
      "                base -= 10\n",
      "            else:\n",
      "                carry = 0\n",
      "            j -= 1\n",
      "            re.append(chr(base + 48))\n",
      "        if carry == 1:\n",
      "            re.append(\"1\")\n",
      "        re.reverse()\n",
      "        return \"\".join(re)\n",
      "    print multiply(\"9\", \"99\")"
     ],
     "language": "python",
     "metadata": {},
     "outputs": [
      {
       "output_type": "stream",
       "stream": "stdout",
       "text": [
        "891\n"
       ]
      }
     ],
     "prompt_number": 16
    },
    {
     "cell_type": "code",
     "collapsed": false,
     "input": [],
     "language": "python",
     "metadata": {},
     "outputs": [],
     "prompt_number": 9
    },
    {
     "cell_type": "code",
     "collapsed": false,
     "input": [],
     "language": "python",
     "metadata": {},
     "outputs": []
    }
   ],
   "metadata": {}
  }
 ]
}