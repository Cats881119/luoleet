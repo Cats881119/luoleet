{
 "metadata": {
  "name": ""
 },
 "nbformat": 3,
 "nbformat_minor": 0,
 "worksheets": [
  {
   "cells": [
    {
     "cell_type": "code",
     "collapsed": false,
     "input": [
      "    def maxPathSum(root):\n",
      "        (up, sum) = maxp(root)\n",
      "        return sum\n",
      "    \n",
      "    def maxp(root):\n",
      "        if root.right == None and root.left == None:\n",
      "            return (root.val, root.val)\n",
      "        if root.left != None and root.right != None:\n",
      "            (leftup, leftsum) = maxp(root.left)\n",
      "            (rightup, rightsum) = maxp(root.right)\n",
      "            reup = max(root.val, root.val + leftup, root.val + rightup)\n",
      "            resum = max(root.val, leftsum, rightsum, root.val + leftup, root.val + rightup, root.val + leftup + rightup)\n",
      "        if root.left == None:\n",
      "            (rightup, rightsum) = maxp(root.right)\n",
      "            reup = max(root.val, root.val + rightup)\n",
      "            resum = max(root.val, rightsum, root.val + rightup)\n",
      "        if root.right == None:\n",
      "            (leftup, leftsum) = maxp(root.left)\n",
      "            reup = max(root.val, root.val + leftup)\n",
      "            resum = max(root.val, leftsum, root.val + leftup)    \n",
      "        return (reup, resum)\n",
      "    class TreeNode:\n",
      "        def __init__(self, x):\n",
      "            self.val = x\n",
      "            self.left = None\n",
      "            self.right = None\n",
      "    root = TreeNode(0)\n",
      "    maxp(root)"
     ],
     "language": "python",
     "metadata": {},
     "outputs": [
      {
       "ename": "SyntaxError",
       "evalue": "invalid syntax (<ipython-input-2-10bf5f72976c>, line 17)",
       "output_type": "pyerr",
       "traceback": [
        "\u001b[0;36m  File \u001b[0;32m\"<ipython-input-2-10bf5f72976c>\"\u001b[0;36m, line \u001b[0;32m17\u001b[0m\n\u001b[0;31m    if root.right == None\u001b[0m\n\u001b[0m                         ^\u001b[0m\n\u001b[0;31mSyntaxError\u001b[0m\u001b[0;31m:\u001b[0m invalid syntax\n"
       ]
      }
     ],
     "prompt_number": 2
    },
    {
     "cell_type": "code",
     "collapsed": false,
     "input": [],
     "language": "python",
     "metadata": {},
     "outputs": []
    }
   ],
   "metadata": {}
  }
 ]
}