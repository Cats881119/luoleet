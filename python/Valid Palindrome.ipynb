{
 "metadata": {
  "name": ""
 },
 "nbformat": 3,
 "nbformat_minor": 0,
 "worksheets": [
  {
   "cells": [
    {
     "cell_type": "code",
     "collapsed": false,
     "input": [
      "    def isPalindrome(s):\n",
      "        s = s.lower()\n",
      "        n = len(s)\n",
      "        i = 0\n",
      "        j = n-1\n",
      "        while i < j:\n",
      "            if isal(s[i]) and isal(s[j]):\n",
      "                if s[i] != s[j]:\n",
      "                    return False\n",
      "                i += 1\n",
      "                j -= 1\n",
      "                continue\n",
      "            if isal(s[i]) == False:\n",
      "                i += 1\n",
      "            if isal(s[j]) == False:\n",
      "                j -= 1\n",
      "        return True\n",
      "    def isal(c):\n",
      "        if (ord(c) >= ord('0') and ord(c) <= ord('9')) or (ord(c) >= ord('a') and ord(c) <= ord('z')):\n",
      "            return True\n",
      "        else:\n",
      "            return False\n",
      "    isPalindrome(\"1a2\")"
     ],
     "language": "python",
     "metadata": {},
     "outputs": [
      {
       "metadata": {},
       "output_type": "pyout",
       "prompt_number": 5,
       "text": [
        "False"
       ]
      }
     ],
     "prompt_number": 5
    },
    {
     "cell_type": "code",
     "collapsed": false,
     "input": [],
     "language": "python",
     "metadata": {},
     "outputs": [],
     "prompt_number": 12
    },
    {
     "cell_type": "code",
     "collapsed": false,
     "input": [],
     "language": "python",
     "metadata": {},
     "outputs": []
    }
   ],
   "metadata": {}
  }
 ]
}