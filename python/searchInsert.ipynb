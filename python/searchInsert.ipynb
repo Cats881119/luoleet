{
 "metadata": {
  "name": ""
 },
 "nbformat": 3,
 "nbformat_minor": 0,
 "worksheets": [
  {
   "cells": [
    {
     "cell_type": "code",
     "collapsed": false,
     "input": [
      "    def searchInsert(A, target):\n",
      "        l = 0\n",
      "        h = len(A) - 1\n",
      "        if h == 0:\n",
      "            if target <= A[0]:\n",
      "                return 0\n",
      "            else:\n",
      "                return 1\n",
      "        while l < h:\n",
      "            mid = (h + l) / 2\n",
      "            if A[mid] == target:\n",
      "                return mid\n",
      "            if A[mid] > target:\n",
      "                h = mid -1\n",
      "            else:\n",
      "                l = mid +1\n",
      "        if h < l:\n",
      "            return l\n",
      "        if h == l:\n",
      "            if A[l] >= target:\n",
      "                return l\n",
      "            else:\n",
      "                return l + 1\n",
      "    searchInsert([1,2,3,5],4)"
     ],
     "language": "python",
     "metadata": {},
     "outputs": [
      {
       "metadata": {},
       "output_type": "pyout",
       "prompt_number": 16,
       "text": [
        "3"
       ]
      }
     ],
     "prompt_number": 16
    },
    {
     "cell_type": "code",
     "collapsed": false,
     "input": [],
     "language": "python",
     "metadata": {},
     "outputs": []
    }
   ],
   "metadata": {}
  }
 ]
}