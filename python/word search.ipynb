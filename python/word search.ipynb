{
 "metadata": {
  "name": ""
 },
 "nbformat": 3,
 "nbformat_minor": 0,
 "worksheets": [
  {
   "cells": [
    {
     "cell_type": "code",
     "collapsed": false,
     "input": [
      "    %time\n",
      "    def exist(board, word):\n",
      "        if word == \"\":\n",
      "            return True\n",
      "        m = len(board)\n",
      "        print len(word)\n",
      "        if m == 0:\n",
      "            return False\n",
      "        n = len(board[0])\n",
      "        print m, n\n",
      "        for i in range(0, m):\n",
      "            for j in range(0, n):\n",
      "                if board[i][j] == word[0]:\n",
      "                    if search(board, word, i, j):\n",
      "                        return True\n",
      "        return False\n",
      "    def search(board, word, r, c):\n",
      "        sp = [(r,c)]\n",
      "        sl = [0]\n",
      "        nw = len(word)\n",
      "        if nw == 1:\n",
      "            return True\n",
      "        m = len(board)\n",
      "        n = len(board[0])\n",
      "        visited = set([(r,c)])\n",
      "        path = []\n",
      "        pre = -1\n",
      "        while len(sl) > 0:\n",
      "            tp = sp[len(sp)-1]\n",
      "            level = sl[len(sl)-1]\n",
      "            r = tp[0]\n",
      "            c = tp[1]\n",
      "            sp.pop()\n",
      "            sl.pop()\n",
      "            if level <= pre:\n",
      "                for i in range(level, pre+1):\n",
      "                    visited.remove(path[i])\n",
      "                path = path[0: level]\n",
      "            path.append((r,c))\n",
      "            pre = level\n",
      "            visited.add((r,c))\n",
      "            if c - 1 >= 0 and board[r][c-1] == word[level+1]:\n",
      "                if (r, c - 1) not in visited:\n",
      "                    if level + 1 == nw - 1:\n",
      "                        return True\n",
      "                    sp.append((r, c-1))\n",
      "                    sl.append(level+1)\n",
      "            if c + 1 < n and board[r][c+1] == word[level+1]:\n",
      "                if (r, c+1) not in visited:\n",
      "                    if level + 1 == nw - 1:\n",
      "                        return True\n",
      "                    sp.append((r,c+1))\n",
      "                    sl.append(level+1)\n",
      "            if r - 1 >= 0 and board[r-1][c] == word[level+1]:\n",
      "                if (r - 1, c) not in visited:\n",
      "                    if level + 1 == nw - 1:\n",
      "                        return True\n",
      "                    sp.append((r-1, c))\n",
      "                    sl.append(level+1)\n",
      "            if r + 1 < m and board[r+1][c] == word[level+1]:\n",
      "                if (r+1, c) not in visited:\n",
      "                    if level + 1 == nw - 1:\n",
      "                        return True\n",
      "                    sp.append((r+1,c))\n",
      "                    sl.append(level+1)\n",
      "        return False\n",
      "   "
     ],
     "language": "python",
     "metadata": {},
     "outputs": [
      {
       "output_type": "stream",
       "stream": "stdout",
       "text": [
        "CPU times: user 2 \u00b5s, sys: 1 \u00b5s, total: 3 \u00b5s\n",
        "Wall time: 4.05 \u00b5s\n",
        "253\n",
        "15 20\n",
        "True\n"
       ]
      }
     ],
     "prompt_number": 85
    },
    {
     "cell_type": "code",
     "collapsed": false,
     "input": [],
     "language": "python",
     "metadata": {},
     "outputs": [],
     "prompt_number": 72
    },
    {
     "cell_type": "code",
     "collapsed": false,
     "input": [],
     "language": "python",
     "metadata": {},
     "outputs": [],
     "prompt_number": 62
    },
    {
     "cell_type": "code",
     "collapsed": false,
     "input": [],
     "language": "python",
     "metadata": {},
     "outputs": [],
     "prompt_number": 62
    },
    {
     "cell_type": "code",
     "collapsed": false,
     "input": [],
     "language": "python",
     "metadata": {},
     "outputs": []
    }
   ],
   "metadata": {}
  }
 ]
}