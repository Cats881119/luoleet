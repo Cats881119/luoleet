{
 "metadata": {
  "name": ""
 },
 "nbformat": 3,
 "nbformat_minor": 0,
 "worksheets": [
  {
   "cells": [
    {
     "cell_type": "code",
     "collapsed": false,
     "input": [
      "    def generateParenthesis(n):\n",
      "        re = []\n",
      "        gener(n, 0, 0, \"\", re)\n",
      "        return re\n",
      "    def gener(n, nl, nr, s, re):\n",
      "        if nl == n and nr == n:\n",
      "            re.append(s)\n",
      "            return\n",
      "        if nl == n:\n",
      "            t = [\")\"] * (n - nr)\n",
      "            s += \"\".join(t)\n",
      "            re.append(s)\n",
      "            return\n",
      "        if nl > nr:\n",
      "            t = s + \"(\"\n",
      "            gener(n, nl + 1, nr, t, re)\n",
      "            t = s + \")\"\n",
      "            gener(n, nl, nr + 1, t, re)\n",
      "        elif nl == nr:\n",
      "            t = s + \"(\"\n",
      "            gener(n, nl + 1, nr, t, re)\n",
      "    generateParenthesis(3)"
     ],
     "language": "python",
     "metadata": {},
     "outputs": [
      {
       "metadata": {},
       "output_type": "pyout",
       "prompt_number": 3,
       "text": [
        "['((()))', '(()())', '(())()', '()(())', '()()()']"
       ]
      }
     ],
     "prompt_number": 3
    },
    {
     "cell_type": "code",
     "collapsed": false,
     "input": [],
     "language": "python",
     "metadata": {},
     "outputs": []
    }
   ],
   "metadata": {}
  }
 ]
}