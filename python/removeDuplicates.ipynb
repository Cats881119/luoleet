{
 "metadata": {
  "name": ""
 },
 "nbformat": 3,
 "nbformat_minor": 0,
 "worksheets": [
  {
   "cells": [
    {
     "cell_type": "code",
     "collapsed": false,
     "input": [
      "    def removeDuplicates(A):\n",
      "        n = len(A)\n",
      "        if n == 1:\n",
      "            return 1\n",
      "        k = 0\n",
      "        i = 1\n",
      "        j = 1\n",
      "        while j < n:\n",
      "            if A[j] != A[j-1]:\n",
      "                A[i] = A[j]\n",
      "                i += 1\n",
      "                j += 1\n",
      "                k = 0\n",
      "            else:\n",
      "                k += 1\n",
      "                if k < 2:\n",
      "                    A[i] = A[j]\n",
      "                    i += 1\n",
      "                    j += 1\n",
      "                else:\n",
      "                    j += 1\n",
      "        return i\n",
      "    A = [1,1,1,2,2,3]\n",
      "    a = removeDuplicates(A)\n",
      "    print A, a"
     ],
     "language": "python",
     "metadata": {},
     "outputs": [
      {
       "output_type": "stream",
       "stream": "stdout",
       "text": [
        "[1, 1, 2, 2, 3, 3] 5\n"
       ]
      }
     ],
     "prompt_number": 5
    },
    {
     "cell_type": "code",
     "collapsed": false,
     "input": [],
     "language": "python",
     "metadata": {},
     "outputs": []
    }
   ],
   "metadata": {}
  }
 ]
}