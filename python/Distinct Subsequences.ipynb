{
 "metadata": {
  "name": ""
 },
 "nbformat": 3,
 "nbformat_minor": 0,
 "worksheets": [
  {
   "cells": [
    {
     "cell_type": "code",
     "collapsed": false,
     "input": [
      "    def numDistinct(S, T):\n",
      "        ni = len(T)\n",
      "        nj = len(S)\n",
      "        old = [1]\n",
      "        for i in range(0, ni):\n",
      "            old.append(0)\n",
      "        for j in range(1, nj+1):\n",
      "            new = [1]\n",
      "            for i in range(1, ni+1):\n",
      "                if T[i-1] == S[j-1]:\n",
      "                    new.append(old[i-1] + old[i])\n",
      "                else:\n",
      "                    new.append(old[i])\n",
      "            old = new[:]\n",
      "        return old[ni]\n",
      "    numDistinct(\"rabbbit\", \"rabbit\")"
     ],
     "language": "python",
     "metadata": {},
     "outputs": [
      {
       "metadata": {},
       "output_type": "pyout",
       "prompt_number": 4,
       "text": [
        "3"
       ]
      }
     ],
     "prompt_number": 4
    },
    {
     "cell_type": "code",
     "collapsed": false,
     "input": [],
     "language": "python",
     "metadata": {},
     "outputs": []
    }
   ],
   "metadata": {}
  }
 ]
}