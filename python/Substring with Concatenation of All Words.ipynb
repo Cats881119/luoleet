{
 "metadata": {
  "name": ""
 },
 "nbformat": 3,
 "nbformat_minor": 0,
 "worksheets": [
  {
   "cells": [
    {
     "cell_type": "code",
     "collapsed": false,
     "input": [
      "    def findSubstring(S, L):\n",
      "        start = 0\n",
      "        nw = len(L[0])\n",
      "        nl = len(L)\n",
      "        ns = len(S)\n",
      "        re = []\n",
      "        ocu = {}\n",
      "        dic = {}\n",
      "        for i in range(0, nl):\n",
      "            if L[i] in dic:\n",
      "                dic[L[i]] += 1\n",
      "            else:\n",
      "                dic[L[i]] = 1\n",
      "            ocu[L[i]] = 0 \n",
      "        i = 0\n",
      "        while i < ns:\n",
      "            t = S[i:i+nw]\n",
      "            if t in dic:\n",
      "                if ocu[t] < dic[t]:\n",
      "                    ocu[t] += 1\n",
      "                    if i + nw - start == nw * nl:\n",
      "                        re.append(start)\n",
      "                        ocu[S[start:start+nw]] -= 1\n",
      "                        start += nw\n",
      "                    i += nw\n",
      "                else:\n",
      "                    while True:\n",
      "                        ts = S[start:start+nw] \n",
      "                        if ts != t:\n",
      "                            ocu[ts] -= 1\n",
      "                            start += nw\n",
      "                        else:\n",
      "                            ocu[ts] -= 1\n",
      "                            start += nw\n",
      "                            break\n",
      "            else:\n",
      "                start += 1\n",
      "                i = start\n",
      "                for j in range(0, nl):\n",
      "                    ocu[L[j]] = 0\n",
      "        return re\n",
      "    S = \"abaababbaban\"\n",
      "    L = [\"ab\",\"ba\",\"ab\",\"ba\"]\n",
      "    findSubstring(S, L)"
     ],
     "language": "python",
     "metadata": {},
     "outputs": [
      {
       "metadata": {},
       "output_type": "pyout",
       "prompt_number": 20,
       "text": [
        "[1, 3]"
       ]
      }
     ],
     "prompt_number": 20
    },
    {
     "cell_type": "code",
     "collapsed": false,
     "input": [],
     "language": "python",
     "metadata": {},
     "outputs": []
    }
   ],
   "metadata": {}
  }
 ]
}