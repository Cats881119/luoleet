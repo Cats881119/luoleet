{
 "metadata": {
  "name": ""
 },
 "nbformat": 3,
 "nbformat_minor": 0,
 "worksheets": [
  {
   "cells": [
    {
     "cell_type": "code",
     "collapsed": false,
     "input": [
      "    def spiralOrder(matrix):\n",
      "        m = len(matrix)\n",
      "        if m == 0:\n",
      "            return []\n",
      "        n = len(matrix[0])\n",
      "        left = 0\n",
      "        right = n-1\n",
      "        up = 0\n",
      "        down = m-1\n",
      "        num = m * n\n",
      "        re = [0] * num\n",
      "        i = 0\n",
      "        while left <= right and up <= down:\n",
      "            pi = up\n",
      "            pj = left\n",
      "            while True:\n",
      "                re[i] = matrix[pi][pj]\n",
      "                i += 1\n",
      "                if i >= num:\n",
      "                    break\n",
      "                if pi == up:\n",
      "                    if pj < right:\n",
      "                        pj += 1\n",
      "                    else:\n",
      "                        pi += 1\n",
      "                elif pj == right:\n",
      "                    if pi < down:\n",
      "                        pi += 1\n",
      "                    else:\n",
      "                        pj -= 1\n",
      "                elif pi == down:\n",
      "                    if pj > left:\n",
      "                        pj -= 1\n",
      "                    else:\n",
      "                        pi -= 1\n",
      "                elif pj == left:\n",
      "                    pi -= 1\n",
      "            if pi == up and pj == left:\n",
      "                    break\n",
      "            up += 1\n",
      "            down -= 1\n",
      "            left += 1\n",
      "            right -= 1\n",
      "        return re\n",
      "    spiralOrder([[1]])"
     ],
     "language": "python",
     "metadata": {},
     "outputs": [
      {
       "metadata": {},
       "output_type": "pyout",
       "prompt_number": 4,
       "text": [
        "[1]"
       ]
      }
     ],
     "prompt_number": 4
    },
    {
     "cell_type": "code",
     "collapsed": false,
     "input": [],
     "language": "python",
     "metadata": {},
     "outputs": []
    }
   ],
   "metadata": {}
  }
 ]
}