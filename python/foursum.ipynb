{
 "metadata": {
  "name": ""
 },
 "nbformat": 3,
 "nbformat_minor": 0,
 "worksheets": [
  {
   "cells": [
    {
     "cell_type": "code",
     "collapsed": false,
     "input": [
      "    def fourSum(num, target):\n",
      "        num.sort()\n",
      "        n = len(num)\n",
      "        dic = {}\n",
      "        ss = set()\n",
      "        re = []\n",
      "        for i in range(0, n-1):\n",
      "            for j in range(i+1, n):\n",
      "                s = num[i] + num[j]\n",
      "                if s in dic:\n",
      "                    dic[s].append((i, j))\n",
      "                else:\n",
      "                    dic[s] = [(i, j)]\n",
      "        for (k, v) in dic.items():\n",
      "            if target - k in dic:\n",
      "                v2 = dic[target-k][:]\n",
      "                for i in range(0, len(v)):\n",
      "                    for j in range(0, len(v2)):\n",
      "                        if v[i][1] < v2[j][0] and (v[i][0], v[i][1], v2[j][0], v2[j][1]) not in ss:\n",
      "                            ss.add((v[i][0], v[i][1], v2[j][0], v2[j][1]))\n",
      "                            re.append([num[v[i][0]], num[v[i][1]], num[v2[j][0]], num[v2[j][1]]])\n",
      "        return re\n",
      "    print fourSum([1, 0, -1, 0, -2, 2], 0)"
     ],
     "language": "python",
     "metadata": {},
     "outputs": [
      {
       "output_type": "stream",
       "stream": "stdout",
       "text": [
        "[[-2, 0, 0, 2], [-2, -1, 1, 2], [-1, 0, 0, 1]]\n"
       ]
      }
     ],
     "prompt_number": 28
    },
    {
     "cell_type": "code",
     "collapsed": false,
     "input": [],
     "language": "python",
     "metadata": {},
     "outputs": [],
     "prompt_number": 10
    },
    {
     "cell_type": "code",
     "collapsed": false,
     "input": [],
     "language": "python",
     "metadata": {},
     "outputs": []
    }
   ],
   "metadata": {}
  }
 ]
}