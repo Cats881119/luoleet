{
 "metadata": {
  "name": ""
 },
 "nbformat": 3,
 "nbformat_minor": 0,
 "worksheets": [
  {
   "cells": [
    {
     "cell_type": "code",
     "collapsed": false,
     "input": [
      "    def getPermutation(n, k):\n",
      "        n1 = 1\n",
      "        for i in range(1, n):\n",
      "            n1 = n1 * i\n",
      "        cn = n-1\n",
      "        a = []\n",
      "        for i in range(0, n):\n",
      "            a.append(chr(i+49))\n",
      "        re = [0] * n\n",
      "        k -= 1\n",
      "        for i in range(0, n):\n",
      "            t = k/n1\n",
      "            k = k % n1\n",
      "            re[i] = a[t]\n",
      "            a = a[0:t] + a[t+1 : cn+1]\n",
      "            if cn == 0:\n",
      "                break\n",
      "            n1 = n1 / cn\n",
      "            cn -= 1\n",
      "        return re\n",
      "    getPermutation(3,2)"
     ],
     "language": "python",
     "metadata": {},
     "outputs": [
      {
       "metadata": {},
       "output_type": "pyout",
       "prompt_number": 15,
       "text": [
        "['1', '3', '2']"
       ]
      }
     ],
     "prompt_number": 15
    },
    {
     "cell_type": "code",
     "collapsed": false,
     "input": [],
     "language": "python",
     "metadata": {},
     "outputs": []
    }
   ],
   "metadata": {}
  }
 ]
}