{
 "metadata": {
  "name": ""
 },
 "nbformat": 3,
 "nbformat_minor": 0,
 "worksheets": [
  {
   "cells": [
    {
     "cell_type": "code",
     "collapsed": false,
     "input": [
      "    def threeSumClosest(num, target):\n",
      "        gap = 0\n",
      "        First = False\n",
      "        num.sort()\n",
      "        n = len(num)\n",
      "        i = 0\n",
      "        while i < n-2:\n",
      "            j = i + 1\n",
      "            k = n - 1\n",
      "            while j < k:\n",
      "                ts = num[i] + num[j] + num[k]\n",
      "                tg = abs(ts - target)\n",
      "                if tg == 0:\n",
      "                    return ts\n",
      "                if First == False:\n",
      "                    First = True\n",
      "                    gap = tg\n",
      "                    re = ts\n",
      "                else:\n",
      "                    if tg < gap:\n",
      "                        gap = tg\n",
      "                        re = ts\n",
      "                if ts < target:\n",
      "                    j += 1\n",
      "                else:\n",
      "                    k -= 1\n",
      "            i += 1\n",
      "        return re\n",
      "    threeSumClosest([1,1,1,0], 100)"
     ],
     "language": "python",
     "metadata": {},
     "outputs": [
      {
       "metadata": {},
       "output_type": "pyout",
       "prompt_number": 3,
       "text": [
        "3"
       ]
      }
     ],
     "prompt_number": 3
    },
    {
     "cell_type": "code",
     "collapsed": false,
     "input": [],
     "language": "python",
     "metadata": {},
     "outputs": []
    }
   ],
   "metadata": {}
  }
 ]
}