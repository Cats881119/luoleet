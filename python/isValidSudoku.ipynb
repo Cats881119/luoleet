{
 "metadata": {
  "name": ""
 },
 "nbformat": 3,
 "nbformat_minor": 0,
 "worksheets": [
  {
   "cells": [
    {
     "cell_type": "code",
     "collapsed": false,
     "input": [
      "    def isValidSudoku(board):\n",
      "        for i in range(0, 9):\n",
      "            a = [False] * 10\n",
      "            for j in range(0, 9):\n",
      "                if board[i][j] != \".\" :\n",
      "                    if a[ord(board[i][j])-48]:\n",
      "                        return False\n",
      "                    a[ord(board[i][j])-48] = True\n",
      "        for j in range(0, 9):\n",
      "            a = [False] * 10\n",
      "            for i in range(0, 9):\n",
      "                if board[i][j] != \".\":\n",
      "                    if a[ord(board[i][j])-48]:\n",
      "                        return False\n",
      "                    a[ord(board[i][j])-48] = True\n",
      "        for k in range(0, 9):\n",
      "            starti = (k / 3) * 3\n",
      "            startj = (k % 3) * 3\n",
      "            a = [False] * 10\n",
      "            for i in range(starti, starti + 3):\n",
      "                for j in range(startj, startj + 3):\n",
      "                    if board[i][j] != \".\":\n",
      "                        if a[ord(board[i][j])-48]:\n",
      "                            return False\n",
      "                        a[ord(board[i][j])-48] = True\n",
      "        return True\n",
      "    isValidSudoku([\".....7..9\",\".4..812..\",\"...2...1.\",\"..53...72\",\"293....5.\",\".....53..\",\"8...23...\",\"7...5..4.\",\"531.7....\"])"
     ],
     "language": "python",
     "metadata": {},
     "outputs": [
      {
       "metadata": {},
       "output_type": "pyout",
       "prompt_number": 3,
       "text": [
        "True"
       ]
      }
     ],
     "prompt_number": 3
    },
    {
     "cell_type": "code",
     "collapsed": false,
     "input": [],
     "language": "python",
     "metadata": {},
     "outputs": [],
     "prompt_number": 2
    },
    {
     "cell_type": "code",
     "collapsed": false,
     "input": [],
     "language": "python",
     "metadata": {},
     "outputs": []
    }
   ],
   "metadata": {}
  }
 ]
}