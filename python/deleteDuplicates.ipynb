{
 "metadata": {
  "name": ""
 },
 "nbformat": 3,
 "nbformat_minor": 0,
 "worksheets": [
  {
   "cells": [
    {
     "cell_type": "code",
     "collapsed": false,
     "input": [
      "    class ListNode:\n",
      "        def __init__(self, x):\n",
      "            self.val = x\n",
      "            self.next = None\n",
      "    def deleteDuplicates(head):\n",
      "        if head == None or head.next == None:\n",
      "            return head\n",
      "        H = ListNode(0)\n",
      "        H.next = head\n",
      "        pre = H\n",
      "        t = head\n",
      "        while t.next != None:\n",
      "            if t.val != t.next.val:\n",
      "                pre = t\n",
      "                t = t.next\n",
      "            else:\n",
      "                t1 = t.next\n",
      "                while t1 != None:\n",
      "                    if t1.val != t.val:\n",
      "                        break\n",
      "                    t1 = t1.next\n",
      "                if t1 == None:\n",
      "                    pre.next = None\n",
      "                    break\n",
      "                pre.next = t1\n",
      "                t = t1\n",
      "        return H.next\n",
      "    head = ListNode(1)\n",
      "    head.next = ListNode(1)\n",
      "    head.next.next = ListNode(2)\n",
      "    a = deleteDuplicates(head)\n",
      "    print a.val"
     ],
     "language": "python",
     "metadata": {},
     "outputs": [
      {
       "output_type": "stream",
       "stream": "stdout",
       "text": [
        "2\n"
       ]
      }
     ],
     "prompt_number": 6
    },
    {
     "cell_type": "code",
     "collapsed": false,
     "input": [],
     "language": "python",
     "metadata": {},
     "outputs": [],
     "prompt_number": 1
    },
    {
     "cell_type": "code",
     "collapsed": false,
     "input": [],
     "language": "python",
     "metadata": {},
     "outputs": []
    }
   ],
   "metadata": {}
  }
 ]
}