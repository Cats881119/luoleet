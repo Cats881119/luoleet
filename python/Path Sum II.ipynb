{
 "metadata": {
  "name": ""
 },
 "nbformat": 3,
 "nbformat_minor": 0,
 "worksheets": [
  {
   "cells": [
    {
     "cell_type": "code",
     "collapsed": false,
     "input": [
      "    class TreeNode:\n",
      "        def __init__(self, x):\n",
      "            self.val = x\n",
      "            self.left = None\n",
      "            self.right = None\n",
      "    def pathSum(root, sum):\n",
      "        if root == None:\n",
      "            return []\n",
      "        sroot = [root]\n",
      "        ssum = [5]\n",
      "        spath = [[5]]\n",
      "        re = []\n",
      "        while len(ssum) > 0:\n",
      "            troot = sroot[len(sroot)-1]\n",
      "            tsum = ssum[len(ssum)-1]\n",
      "            tpath = spath[len(spath)-1]\n",
      "            sroot.pop()\n",
      "            ssum.pop()\n",
      "            spath.pop()\n",
      "            if troot.right == None and troot.left == None:\n",
      "                if tsum == sum:\n",
      "                    re.append(tpath)\n",
      "            else:\n",
      "                if troot.right != None:\n",
      "                    sroot.append(troot.right)\n",
      "                    ssum.append(tsum + troot.right.val)\n",
      "                    tpr = tpath[:]\n",
      "                    tpr.append(troot.right.val)\n",
      "                    spath.append(tpr)\n",
      "                if troot.left != None:\n",
      "                    sroot.append(troot.left)\n",
      "                    ssum.append(tsum + troot.left.val)\n",
      "                    tpl = tpath[:]\n",
      "                    tpl.append(troot.left.val)\n",
      "                    spath.append(tpl)\n",
      "        return re\n",
      "    root "
     ],
     "language": "python",
     "metadata": {},
     "outputs": [
      {
       "output_type": "stream",
       "stream": "stdout",
       "text": [
        "[1, 2, 3]\n",
        "None\n"
       ]
      }
     ],
     "prompt_number": 6
    },
    {
     "cell_type": "code",
     "collapsed": false,
     "input": [],
     "language": "python",
     "metadata": {},
     "outputs": []
    }
   ],
   "metadata": {}
  }
 ]
}