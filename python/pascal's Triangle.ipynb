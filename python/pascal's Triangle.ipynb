{
 "metadata": {
  "name": ""
 },
 "nbformat": 3,
 "nbformat_minor": 0,
 "worksheets": [
  {
   "cells": [
    {
     "cell_type": "code",
     "collapsed": false,
     "input": [
      "    def generate(numRows):\n",
      "        if numRows == 0:\n",
      "            return [[]]\n",
      "        if numRows == 1:\n",
      "            return [[1]]\n",
      "        if numRows == 2:\n",
      "            return [[1], [1,1]]\n",
      "        L = [[1], [1,1]]\n",
      "        rw = []\n",
      "        for i in range(2, numRows):\n",
      "            rw = [1]\n",
      "            for j in range(1, i):\n",
      "                rw.append(L[i-1][j-1] + L[i-1][j])\n",
      "            rw.append(1)\n",
      "            L.append(rw)\n",
      "        return L\n",
      "    generate(6)"
     ],
     "language": "python",
     "metadata": {},
     "outputs": [
      {
       "metadata": {},
       "output_type": "pyout",
       "prompt_number": 21,
       "text": [
        "[[1], [1, 1], [1, 2, 1], [1, 3, 3, 1], [1, 4, 6, 4, 1], [1, 5, 10, 10, 5, 1]]"
       ]
      }
     ],
     "prompt_number": 21
    },
    {
     "cell_type": "code",
     "collapsed": false,
     "input": [],
     "language": "python",
     "metadata": {},
     "outputs": [],
     "prompt_number": 10
    },
    {
     "cell_type": "code",
     "collapsed": false,
     "input": [],
     "language": "python",
     "metadata": {},
     "outputs": [],
     "prompt_number": 10
    },
    {
     "cell_type": "code",
     "collapsed": false,
     "input": [],
     "language": "python",
     "metadata": {},
     "outputs": [],
     "prompt_number": 10
    },
    {
     "cell_type": "code",
     "collapsed": false,
     "input": [],
     "language": "python",
     "metadata": {},
     "outputs": []
    }
   ],
   "metadata": {}
  }
 ]
}