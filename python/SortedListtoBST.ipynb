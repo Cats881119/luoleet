{
 "metadata": {
  "name": ""
 },
 "nbformat": 3,
 "nbformat_minor": 0,
 "worksheets": [
  {
   "cells": [
    {
     "cell_type": "code",
     "collapsed": false,
     "input": [
      "    class TreeNode:\n",
      "        def __init__(self, x):\n",
      "            self.val = x\n",
      "            self.left = None\n",
      "            self.right = None\n",
      "# Definition for singly-linked list.\n",
      "    class ListNode:\n",
      "        def __init__(self, x):\n",
      "            self.val = x\n",
      "            self.next = None\n",
      "\n",
      "    # @param head, a list node\n",
      "    # @return a tree node\n",
      "    def sortedListToBST(head):\n",
      "        if head == None:\n",
      "            return None\n",
      "        if head.next == None:\n",
      "            re = TreeNode(head.val)\n",
      "            return re\n",
      "        fast = head\n",
      "        slow = head\n",
      "        H = ListNode(-1)\n",
      "        H.next = head\n",
      "        slow_pre = H\n",
      "        while fast.next != None and fast.next.next != None:\n",
      "            slow_pre = slow_pre.next\n",
      "            slow = slow.next\n",
      "            fast = fast.next.next\n",
      "        slow_pre.next = None\n",
      "        retree = TreeNode(slow.val)\n",
      "        left = sortedListToBST(H.next)\n",
      "        right = sortedListToBST(slow.next)\n",
      "        retree.left = left\n",
      "        retree.right = right\n",
      "        return retree\n",
      "    head = ListNode(1)\n",
      "    head.next = ListNode(2)\n",
      "    sortedListToBST(head)"
     ],
     "language": "python",
     "metadata": {},
     "outputs": [
      {
       "output_type": "stream",
       "stream": "stdout",
       "text": [
        "True\n"
       ]
      },
      {
       "metadata": {},
       "output_type": "pyout",
       "prompt_number": 15,
       "text": [
        "<__main__.TreeNode instance at 0x7ff59826d950>"
       ]
      }
     ],
     "prompt_number": 15
    },
    {
     "cell_type": "code",
     "collapsed": false,
     "input": [],
     "language": "python",
     "metadata": {},
     "outputs": []
    }
   ],
   "metadata": {}
  }
 ]
}