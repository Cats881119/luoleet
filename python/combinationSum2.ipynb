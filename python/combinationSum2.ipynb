{
 "metadata": {
  "name": ""
 },
 "nbformat": 3,
 "nbformat_minor": 0,
 "worksheets": [
  {
   "cells": [
    {
     "cell_type": "code",
     "collapsed": false,
     "input": [
      "    def combinationSum2(candidates, target):\n",
      "        candidates.sort()\n",
      "        return comb(candidates, target)\n",
      "    def comb(candidates, target):\n",
      "        n = len(candidates)\n",
      "        if n == 0:\n",
      "            return []\n",
      "        if target <= 0:\n",
      "            return []\n",
      "        i = 1\n",
      "        while i < n:\n",
      "            if candidates[i] != candidates[0]:\n",
      "                break\n",
      "            i += 1\n",
      "        re1 = comb(candidates[1:n], target - candidates[0])\n",
      "        re2 = comb(candidates[i:n], target)\n",
      "        if len(re1) > 0:\n",
      "            for i in range(0, len(re1)):\n",
      "                re1[i].insert(0, candidates[0])\n",
      "        elif candidates[0] == target:\n",
      "            re1 = [[candidates[0]]]\n",
      "        return re1 + re2\n",
      "    print combinationSum2([10,1,2,7,6,1,5], 8)"
     ],
     "language": "python",
     "metadata": {},
     "outputs": [
      {
       "output_type": "stream",
       "stream": "stdout",
       "text": [
        "[[1, 1, 6], [1, 2, 5], [1, 7], [2, 6]]\n"
       ]
      }
     ],
     "prompt_number": 12
    },
    {
     "cell_type": "code",
     "collapsed": false,
     "input": [],
     "language": "python",
     "metadata": {},
     "outputs": []
    }
   ],
   "metadata": {}
  }
 ]
}