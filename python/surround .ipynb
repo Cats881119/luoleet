{
 "metadata": {
  "name": ""
 },
 "nbformat": 3,
 "nbformat_minor": 0,
 "worksheets": [
  {
   "cells": [
    {
     "cell_type": "code",
     "collapsed": false,
     "input": [
      "    def solve(board):\n",
      "        m = len(board)\n",
      "        if m == 0:\n",
      "            return\n",
      "        n = len(board[0])\n",
      "        for i in range(0, n):\n",
      "            if board[0][i] == 'O':\n",
      "                setO(board, 0, i)\n",
      "            if board[m-1][i] == 'O':\n",
      "                setO(board, m-1, i)\n",
      "        for i in range(1, m-1):\n",
      "            if board[i][0] == 'O':\n",
      "                setO(board, i, 0)\n",
      "            if board[i][n-1] == 'O':\n",
      "                setO(board, i, n-1)\n",
      "            \n",
      "        for i in range(0, m):\n",
      "            for j in range(0, n):\n",
      "                print i, j\n",
      "                if board[i][j] == '1':\n",
      "                    board[i][j] = 'O'\n",
      "                elif board[i][j] == 'O':\n",
      "                    board[i][j] = 'X'\n",
      "        \n",
      "        \n",
      "    def setO(board, r, c):\n",
      "        m = len(board)\n",
      "        n = len(board[0])\n",
      "        qr = [r]\n",
      "        qc = [c]\n",
      "        board[r][c] = '1'\n",
      "        while len(qr) > 0:\n",
      "            r = qr[0]\n",
      "            c = qc[0]\n",
      "            qr.pop(0)\n",
      "            qc.pop(0)\n",
      "            tr = r - 1\n",
      "            if tr >= 0 and board[tr][c] == 'O':\n",
      "                board[tr][c] = '1'\n",
      "                qr.append(tr)\n",
      "                qc.append(c)\n",
      "            tr = r + 1\n",
      "            if tr < m and board[tr][c] == 'O':\n",
      "                board[tr][c] = '1'\n",
      "                qr.append(tr)\n",
      "                qc.append(c)\n",
      "            tc = c - 1\n",
      "            if tc >= 0 and board[r][tc] == 'O':\n",
      "                board[r][tc] = '1'\n",
      "                qr.append(r)\n",
      "                qc.append(tc)\n",
      "            tc = c + 1\n",
      "            if tc < n and board[r][tc] == 'O':\n",
      "                board[r][tc] = '1'\n",
      "                qr.append(r)\n",
      "                qc.append(tc)\n",
      "    board = [['X','O','X'],['O','X','O'],['X','O','X']]\n",
      "    solve(board)\n",
      "    print board"
     ],
     "language": "python",
     "metadata": {},
     "outputs": [
      {
       "output_type": "stream",
       "stream": "stdout",
       "text": [
        "0 0\n",
        "0 1\n",
        "0 2\n",
        "1 0\n",
        "1 1\n",
        "1 2\n",
        "2 0\n",
        "2 1\n",
        "2 2\n",
        "[['X', 'O', 'X'], ['O', 'X', 'O'], ['X', 'O', 'X']]\n"
       ]
      }
     ],
     "prompt_number": 25
    },
    {
     "cell_type": "code",
     "collapsed": false,
     "input": [],
     "language": "python",
     "metadata": {},
     "outputs": [],
     "prompt_number": 25
    },
    {
     "cell_type": "code",
     "collapsed": false,
     "input": [],
     "language": "python",
     "metadata": {},
     "outputs": [],
     "prompt_number": 3
    },
    {
     "cell_type": "code",
     "collapsed": false,
     "input": [],
     "language": "python",
     "metadata": {},
     "outputs": []
    }
   ],
   "metadata": {}
  }
 ]
}