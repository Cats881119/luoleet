{
 "metadata": {
  "name": ""
 },
 "nbformat": 3,
 "nbformat_minor": 0,
 "worksheets": [
  {
   "cells": [
    {
     "cell_type": "code",
     "collapsed": false,
     "input": [
      "    def combine(n, k):\n",
      "        if k == 0:\n",
      "            return []\n",
      "        s = []\n",
      "        re = []\n",
      "        j = 1\n",
      "        while True:\n",
      "            if len(s) == k:\n",
      "                t = s[:]\n",
      "                re.append(t)\n",
      "                j = s[len(s)-1] + 1\n",
      "                s.pop()\n",
      "                continue\n",
      "            if j > n:\n",
      "                if len(s) == 0:\n",
      "                    break\n",
      "                j = s[len(s)-1] + 1\n",
      "                s.pop()\n",
      "                continue\n",
      "            s.append(j)\n",
      "            j += 1\n",
      "        return re\n",
      "    combine(3,2)"
     ],
     "language": "python",
     "metadata": {},
     "outputs": [
      {
       "metadata": {},
       "output_type": "pyout",
       "prompt_number": 2,
       "text": [
        "[[1, 2], [1, 3], [2, 3]]"
       ]
      }
     ],
     "prompt_number": 2
    },
    {
     "cell_type": "code",
     "collapsed": false,
     "input": [],
     "language": "python",
     "metadata": {},
     "outputs": []
    }
   ],
   "metadata": {}
  }
 ]
}