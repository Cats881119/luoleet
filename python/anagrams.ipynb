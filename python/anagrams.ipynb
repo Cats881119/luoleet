{
 "metadata": {
  "name": ""
 },
 "nbformat": 3,
 "nbformat_minor": 0,
 "worksheets": [
  {
   "cells": [
    {
     "cell_type": "code",
     "collapsed": false,
     "input": [
      "    def anagrams(strs):\n",
      "        re = []\n",
      "        dic = {}\n",
      "        for i in range(0, len(strs)):\n",
      "            sta = ana(strs[i])\n",
      "            if sta in dic:\n",
      "                dic[sta].append(strs[i])\n",
      "            else:\n",
      "                dic[sta] = [strs[i]]\n",
      "        for (k, v) in dic.items():\n",
      "            if len(v) > 1:\n",
      "                re += v[:]\n",
      "        return re\n",
      "                \n",
      "                \n",
      "            \n",
      "    def ana(str1):\n",
      "        t = list(str1)\n",
      "        t.sort()\n",
      "        return \"\".join(t)\n",
      "    anagrams([\"\"])"
     ],
     "language": "python",
     "metadata": {},
     "outputs": [
      {
       "metadata": {},
       "output_type": "pyout",
       "prompt_number": 26,
       "text": [
        "[]"
       ]
      }
     ],
     "prompt_number": 26
    },
    {
     "cell_type": "code",
     "collapsed": false,
     "input": [],
     "language": "python",
     "metadata": {},
     "outputs": [],
     "prompt_number": 18
    },
    {
     "cell_type": "code",
     "collapsed": false,
     "input": [],
     "language": "python",
     "metadata": {},
     "outputs": []
    }
   ],
   "metadata": {}
  }
 ]
}