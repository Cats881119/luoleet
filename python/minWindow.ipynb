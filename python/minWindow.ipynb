{
 "metadata": {
  "name": ""
 },
 "nbformat": 3,
 "nbformat_minor": 0,
 "worksheets": [
  {
   "cells": [
    {
     "cell_type": "code",
     "collapsed": false,
     "input": [
      "    def minWindow(S, T):\n",
      "        dic = {}\n",
      "        cur = {}\n",
      "        nt = len(T)\n",
      "        for i in range(0, nt):\n",
      "            if dic.has_key(T[i]) == False:\n",
      "                dic[T[i]] = 1\n",
      "            else:\n",
      "                dic[T[i]] += 1\n",
      "            cur[T[i]] = 0\n",
      "        n = len(S)\n",
      "        for i in range(0, n):\n",
      "            if dic.has_key(S[i]):\n",
      "                break\n",
      "        j = i\n",
      "        length = 0\n",
      "        Min = -1\n",
      "        Found = False\n",
      "        while j < n:\n",
      "            if dic.has_key(S[j]):\n",
      "                cur[S[j]] += 1\n",
      "                if cur[S[j]] <= dic[S[j]]:\n",
      "                    length += 1\n",
      "            if length == nt:\n",
      "                Found = True\n",
      "                while True:\n",
      "                    if dic.has_key(S[i]): \n",
      "                        if cur[S[i]] > dic[S[i]]:\n",
      "                            cur[S[i]] -= 1\n",
      "                        else:\n",
      "                            break\n",
      "                    i += 1\n",
      "                if j-i < Min or Min < 0:\n",
      "                    Min = j-i\n",
      "                    mi = i\n",
      "                    mj = j\n",
      "                while True:\n",
      "                    if dic.has_key(S[i]):\n",
      "                        if cur[S[i]] >= dic[S[i]]:\n",
      "                            cur[S[i]] -= 1\n",
      "                            if cur[S[i]] < dic[S[i]]:\n",
      "                                i += 1\n",
      "                                length -=1\n",
      "                                break\n",
      "                    i += 1\n",
      "            j += 1\n",
      "        if Found:\n",
      "            return S[mi: mj+1]\n",
      "        else:\n",
      "            return \"\"\n",
      "    minWindow( \t\"acbbaca\", \"aba\")"
     ],
     "language": "python",
     "metadata": {},
     "outputs": [
      {
       "metadata": {},
       "output_type": "pyout",
       "prompt_number": 24,
       "text": [
        "'baca'"
       ]
      }
     ],
     "prompt_number": 24
    },
    {
     "cell_type": "code",
     "collapsed": false,
     "input": [],
     "language": "python",
     "metadata": {},
     "outputs": []
    }
   ],
   "metadata": {}
  }
 ]
}