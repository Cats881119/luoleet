{
 "metadata": {
  "name": ""
 },
 "nbformat": 3,
 "nbformat_minor": 0,
 "worksheets": [
  {
   "cells": [
    {
     "cell_type": "code",
     "collapsed": false,
     "input": [
      "    def isMatch(s, p):\n",
      "        s += chr(0)\n",
      "        p += chr(0)\n",
      "        np = len(p)\n",
      "        sst = 0\n",
      "        pst = 0\n",
      "        star = False\n",
      "        i = 0\n",
      "        j = 0\n",
      "        while s[i] != '\\0':\n",
      "            if p[j] == '?':\n",
      "                i += 1\n",
      "                j += 1\n",
      "            elif p[j] == '*':\n",
      "                star = True\n",
      "                sst = i\n",
      "                while p[j] == '*':\n",
      "                    j += 1\n",
      "                if p[j] == '\\0':\n",
      "                    return True\n",
      "                pst = j\n",
      "            else:\n",
      "                if s[i] == p[j]:\n",
      "                    i += 1\n",
      "                    j += 1\n",
      "                else:\n",
      "                    if star == False:\n",
      "                        return False\n",
      "                    else:\n",
      "                        sst += 1\n",
      "                        i = sst\n",
      "                        j = pst\n",
      "        while p[j] == '*':\n",
      "            j += 1\n",
      "        return p[j] == '\\0'\n",
      "    isMatch(\"aa\", \"a\")"
     ],
     "language": "python",
     "metadata": {},
     "outputs": [
      {
       "metadata": {},
       "output_type": "pyout",
       "prompt_number": 7,
       "text": [
        "False"
       ]
      }
     ],
     "prompt_number": 7
    },
    {
     "cell_type": "code",
     "collapsed": false,
     "input": [],
     "language": "python",
     "metadata": {},
     "outputs": []
    }
   ],
   "metadata": {}
  }
 ]
}