{
 "metadata": {
  "name": ""
 },
 "nbformat": 3,
 "nbformat_minor": 0,
 "worksheets": [
  {
   "cells": [
    {
     "cell_type": "code",
     "collapsed": false,
     "input": [
      "    def grayCode(n):\n",
      "        if n == 0:\n",
      "            return [0]\n",
      "        if n == 1:\n",
      "            return [0, 1]\n",
      "        t1 = [0, 1]\n",
      "        for i in range(1, n):\n",
      "            t2 = t1[:]\n",
      "            t2.reverse()\n",
      "            for j in range(0, len(t2)):\n",
      "                t2[j] = t2[j] + (1<<i)\n",
      "                print t2\n",
      "            t1 = t1 + t2\n",
      "        return t1\n",
      "    grayCode(2)"
     ],
     "language": "python",
     "metadata": {},
     "outputs": [
      {
       "output_type": "stream",
       "stream": "stdout",
       "text": [
        "[3, 0]\n",
        "[3, 2]\n"
       ]
      },
      {
       "metadata": {},
       "output_type": "pyout",
       "prompt_number": 40,
       "text": [
        "[0, 1, 3, 2]"
       ]
      }
     ],
     "prompt_number": 40
    },
    {
     "cell_type": "code",
     "collapsed": false,
     "input": [],
     "language": "python",
     "metadata": {},
     "outputs": []
    },
    {
     "cell_type": "code",
     "collapsed": false,
     "input": [],
     "language": "python",
     "metadata": {},
     "outputs": []
    },
    {
     "cell_type": "code",
     "collapsed": false,
     "input": [],
     "language": "python",
     "metadata": {},
     "outputs": []
    }
   ],
   "metadata": {}
  }
 ]
}