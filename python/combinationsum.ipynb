{
 "metadata": {
  "name": ""
 },
 "nbformat": 3,
 "nbformat_minor": 0,
 "worksheets": [
  {
   "cells": [
    {
     "cell_type": "code",
     "collapsed": false,
     "input": [
      "    def combinationSum(candidates, target):\n",
      "        candidates.sort()\n",
      "        return comb(candidates,target)\n",
      "    def comb(candidtates, target):\n",
      "        n = len(candidtates)\n",
      "        if n == 0:\n",
      "            return []\n",
      "        if target < candidtates[0]:\n",
      "            return  []\n",
      "        t1 = comb(candidtates[1:n], target - candidtates[0])\n",
      "        t2 = comb(candidtates, target - candidtates[0])\n",
      "        t3 = comb(candidtates[1:n], target)\n",
      "        print t1, t2, target-candidtates[0]\n",
      "        re1 = t1 + t2\n",
      "        re2 = t3\n",
      "        if len(re1) > 0:\n",
      "            for i in range(0, len(re1)):\n",
      "                re1[i].insert(0, candidtates[0])\n",
      "        elif candidtates[0] == target:\n",
      "            re1 = [[candidtates[0]]]\n",
      "        return re1 + re2\n",
      "    combinationSum([2,3,6,7], 7)"
     ],
     "language": "python",
     "metadata": {},
     "outputs": [
      {
       "metadata": {},
       "output_type": "pyout",
       "prompt_number": 24,
       "text": [
        "[[2, 3]]"
       ]
      }
     ],
     "prompt_number": 24
    },
    {
     "cell_type": "code",
     "collapsed": false,
     "input": [],
     "language": "python",
     "metadata": {},
     "outputs": []
    }
   ],
   "metadata": {}
  }
 ]
}