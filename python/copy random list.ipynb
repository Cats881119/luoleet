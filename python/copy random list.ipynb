{
 "metadata": {
  "name": ""
 },
 "nbformat": 3,
 "nbformat_minor": 0,
 "worksheets": [
  {
   "cells": [
    {
     "cell_type": "code",
     "collapsed": false,
     "input": [
      "    class RandomListNode:\n",
      "        def __init__(self, x):\n",
      "            self.label = x\n",
      "            self.next = None\n",
      "            self.random = None\n",
      "\n",
      "    def copyRandomList(head):\n",
      "        if head == None:\n",
      "            return None\n",
      "        cur = head\n",
      "        while cur != None:\n",
      "            node = RandomListNode(cur.label)\n",
      "            node.next = cur.next\n",
      "            cur.next = node\n",
      "            cur = cur.next.next\n",
      "        cur = head\n",
      "        while cur != None:\n",
      "            if cur.random != None:\n",
      "                cur.next.random = cur.random.next\n",
      "            cur = cur.next.next\n",
      "        cur = head\n",
      "        t = head.next\n",
      "        H = t\n",
      "        while cur != None:\n",
      "            tc = cur.next.next\n",
      "            cur.next = tc\n",
      "            if tc != None:\n",
      "                t.next = tc.next\n",
      "                t = t.next\n",
      "                cur = tc\n",
      "            cur = tc\n",
      "        return H\n",
      "    head = RandomListNode(-1)\n",
      "    H = copyRandomList(head)"
     ],
     "language": "python",
     "metadata": {},
     "outputs": [],
     "prompt_number": 6
    },
    {
     "cell_type": "code",
     "collapsed": false,
     "input": [],
     "language": "python",
     "metadata": {},
     "outputs": []
    }
   ],
   "metadata": {}
  }
 ]
}