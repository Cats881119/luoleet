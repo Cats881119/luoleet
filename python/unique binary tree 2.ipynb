{
 "metadata": {
  "name": ""
 },
 "nbformat": 3,
 "nbformat_minor": 0,
 "worksheets": [
  {
   "cells": [
    {
     "cell_type": "code",
     "collapsed": false,
     "input": [
      "    def generateTrees(n):\n",
      "        L = []\n",
      "        if n == 0:\n",
      "            return L\n",
      "        for i in range (0, n+2):\n",
      "            L.append([])\n",
      "            for j in range(0, n+2):\n",
      "                L[i].append([])\n",
      "        for i in range(0, n+2):\n",
      "            for j in range(0, n+2):\n",
      "                if i == j and i > 0 and i < n+1:\n",
      "                    L[i][j].append(TreeNode(i))\n",
      "                if i > j or i == 0 or i == n+1 or j == 0 or j == n+1:\n",
      "                    L[i][j].append(None)\n",
      "        for k in range(1, n):\n",
      "            for i in range(1, n+1-k):\n",
      "                j = i + k\n",
      "                for l in range(i, j+1):\n",
      "                    for mleft in range(0, len(L[i][l-1])):\n",
      "                        for mright in range(0, len(L[l+1][j])):\n",
      "                            print len(L[i][l-1]),len(L[l+1][j]), \"::: \", i, l-1, l+1, j, \"l=\", l\n",
      "                            t = TreeNode(l)\n",
      "                            t.left = L[i][l-1][mleft]\n",
      "                            t.right = L[l+1][j][mright]\n",
      "                            L[i][j].append(t)\n",
      "        return L[1][n]\n",
      "    a = generateTrees(2)\n",
      "    print len(a)"
     ],
     "language": "python",
     "metadata": {},
     "outputs": [
      {
       "output_type": "stream",
       "stream": "stdout",
       "text": [
        "1 1 :::  1 0 2 2 l= 1\n",
        "1 1 :::  1 1 3 2 l= 2\n",
        "2\n"
       ]
      }
     ],
     "prompt_number": 45
    },
    {
     "cell_type": "code",
     "collapsed": false,
     "input": [],
     "language": "python",
     "metadata": {},
     "outputs": [],
     "prompt_number": 33
    },
    {
     "cell_type": "code",
     "collapsed": false,
     "input": [],
     "language": "python",
     "metadata": {},
     "outputs": []
    }
   ],
   "metadata": {}
  }
 ]
}