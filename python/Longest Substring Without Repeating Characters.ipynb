{
 "metadata": {
  "name": ""
 },
 "nbformat": 3,
 "nbformat_minor": 0,
 "worksheets": [
  {
   "cells": [
    {
     "cell_type": "code",
     "collapsed": false,
     "input": [
      "    def lengthOfLongestSubstring(s):\n",
      "        length = 1\n",
      "        a = [-1] * 256\n",
      "        start = 0\n",
      "        i = start\n",
      "        n = len(s)\n",
      "        while i < n:\n",
      "            if a[ord(s[i])] < start:\n",
      "                a[ord(s[i])] = i\n",
      "                i += 1\n",
      "            else:\n",
      "                length = max(length, i - start)\n",
      "                start = a[ord(s[i])] + 1\n",
      "                a[ord(s[i])] = i\n",
      "                i += 1\n",
      "        length = max(i - start, length)\n",
      "        return length\n",
      "    lengthOfLongestSubstring(\"babcdeafg\")"
     ],
     "language": "python",
     "metadata": {},
     "outputs": [
      {
       "metadata": {},
       "output_type": "pyout",
       "prompt_number": 9,
       "text": [
        "7"
       ]
      }
     ],
     "prompt_number": 9
    },
    {
     "cell_type": "code",
     "collapsed": false,
     "input": [],
     "language": "python",
     "metadata": {},
     "outputs": []
    }
   ],
   "metadata": {}
  }
 ]
}