{
 "metadata": {
  "name": ""
 },
 "nbformat": 3,
 "nbformat_minor": 0,
 "worksheets": [
  {
   "cells": [
    {
     "cell_type": "code",
     "collapsed": false,
     "input": [
      "    def letterCombinations(digits):\n",
      "        a = [\"\", \"\", \"abc\", \"def\", \"gji\", \"jkl\", \"mno\",\"pqrs\", \"tuv\", \"wxyz\"]\n",
      "        n = len(digits)\n",
      "        if n == 1:\n",
      "            ts = a[ord(digits[0])-48]\n",
      "            re = []\n",
      "            for i in range(0, len(ts)):\n",
      "                re.append(ts[i])\n",
      "            return re\n",
      "        tr = letterCombinations(digits[1:n])\n",
      "        ts = a[ord(digits[0])-48]\n",
      "        re = []\n",
      "        for i in range(0, len(ts)):\n",
      "            for j in range(0, len(tr)):\n",
      "                t = ts[i] + tr[j]\n",
      "                re.append(t)\n",
      "        return re\n",
      "    letterCombinations(\"23\")"
     ],
     "language": "python",
     "metadata": {},
     "outputs": [
      {
       "metadata": {},
       "output_type": "pyout",
       "prompt_number": 3,
       "text": [
        "['ad', 'ae', 'af', 'bd', 'be', 'bf', 'cd', 'ce', 'cf']"
       ]
      }
     ],
     "prompt_number": 3
    },
    {
     "cell_type": "code",
     "collapsed": false,
     "input": [],
     "language": "python",
     "metadata": {},
     "outputs": []
    }
   ],
   "metadata": {}
  }
 ]
}