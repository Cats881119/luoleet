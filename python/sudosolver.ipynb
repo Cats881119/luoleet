{
 "metadata": {
  "name": ""
 },
 "nbformat": 3,
 "nbformat_minor": 0,
 "worksheets": [
  {
   "cells": [
    {
     "cell_type": "code",
     "collapsed": false,
     "input": [
      "    %time\n",
      "    def solveSudoku(board):\n",
      "        solvesudo(board)\n",
      "    def solvesudo(board):\n",
      "        for i in range(0, 9):\n",
      "            for j in range(0, 9):\n",
      "                if board[i][j] == \".\":\n",
      "                    tlist = list(board[i])\n",
      "                    for k in range(1, 10):\n",
      "                        tlist[j] = chr(k+48)\n",
      "                        board[i] = \"\".join(tlist)\n",
      "                        if isvalid(board, i, j) and solvesudo(board):\n",
      "                            return True\n",
      "                        tlist[j] = \".\"\n",
      "                        board[i] = \"\".join(tlist)\n",
      "                    return False\n",
      "        return True\n",
      "    def isvalid(board, r, c):\n",
      "        for i in range(0, 9):\n",
      "            if i != r:\n",
      "                if board[i][c] == board[r][c]:\n",
      "                    return False\n",
      "        for j in range(0, 9):\n",
      "            if j != c:\n",
      "                if board[r][j] == board[r][c]:\n",
      "                    return False\n",
      "        starti = (r / 3) * 3\n",
      "        startj = (c / 3) * 3\n",
      "        for i in range(starti, starti + 3):\n",
      "            for j in range(startj, startj + 3):\n",
      "                if i != r and j != c:\n",
      "                    if board[i][j] == board[r][c]:\n",
      "                        return False\n",
      "        return True\n",
      "    board = [\".....7..9\",\".4..812..\",\"...9...1.\",\"..53...72\",\"293....5.\",\".....53..\",\"8...23...\",\"7...5..4.\",\"531.7....\"]\n",
      "    solveSudoku(board)\n",
      "    print board"
     ],
     "language": "python",
     "metadata": {},
     "outputs": [
      {
       "output_type": "stream",
       "stream": "stdout",
       "text": [
        "CPU times: user 1 \u00b5s, sys: 0 ns, total: 1 \u00b5s\n",
        "Wall time: 3.81 \u00b5s\n",
        "['312547869', '947681235', '658932714', '185364972', '293718456', '476295381', '864123597', '729856143', '531479628']"
       ]
      },
      {
       "output_type": "stream",
       "stream": "stdout",
       "text": [
        "\n"
       ]
      }
     ],
     "prompt_number": 18
    },
    {
     "cell_type": "code",
     "collapsed": false,
     "input": [],
     "language": "python",
     "metadata": {},
     "outputs": [],
     "prompt_number": 17
    },
    {
     "cell_type": "code",
     "collapsed": false,
     "input": [],
     "language": "python",
     "metadata": {},
     "outputs": []
    }
   ],
   "metadata": {}
  }
 ]
}