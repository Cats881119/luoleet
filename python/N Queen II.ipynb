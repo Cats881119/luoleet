{
 "metadata": {
  "name": ""
 },
 "nbformat": 3,
 "nbformat_minor": 0,
 "worksheets": [
  {
   "cells": [
    {
     "cell_type": "code",
     "collapsed": false,
     "input": [
      "    def totalNQueens(n):\n",
      "        a = [-1] * n\n",
      "        s = [0]\n",
      "        re = 0\n",
      "        while len(s) > 0:\n",
      "            a[s[-1]] += 1\n",
      "            if a[s[-1]] >= n:\n",
      "                a[s[-1]] = -1\n",
      "                s.pop()\n",
      "                continue\n",
      "            if isconflict(a, s[-1], a[s[-1]]) == False:\n",
      "                if s[-1] == n-1:\n",
      "                    re += 1\n",
      "                else:\n",
      "                    s.append(s[-1]+1)\n",
      "        return re\n",
      "            \n",
      "    def isconflict(a, r, c):\n",
      "        for i in range(0, r):\n",
      "            if a[i] == c or abs(c - a[i]) == abs(i - r):\n",
      "                return True\n",
      "        return False\n",
      "    print totalNQueens(5)"
     ],
     "language": "python",
     "metadata": {},
     "outputs": [
      {
       "output_type": "stream",
       "stream": "stdout",
       "text": [
        "10\n"
       ]
      }
     ],
     "prompt_number": 24
    },
    {
     "cell_type": "code",
     "collapsed": false,
     "input": [],
     "language": "python",
     "metadata": {},
     "outputs": [],
     "prompt_number": 11
    },
    {
     "cell_type": "code",
     "collapsed": false,
     "input": [],
     "language": "python",
     "metadata": {},
     "outputs": []
    }
   ],
   "metadata": {}
  }
 ]
}