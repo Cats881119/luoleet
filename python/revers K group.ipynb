{
 "metadata": {
  "name": ""
 },
 "nbformat": 3,
 "nbformat_minor": 0,
 "worksheets": [
  {
   "cells": [
    {
     "cell_type": "code",
     "collapsed": false,
     "input": [
      "    class ListNode:\n",
      "        def __init__(self, x):\n",
      "            self.val = x\n",
      "            self.next = None\n",
      "\n",
      "    def reverseKGroup(head, k):\n",
      "        if k == 1:\n",
      "            return head\n",
      "        H = ListNode(0)\n",
      "        H.next = head\n",
      "        pre = H\n",
      "        start = head\n",
      "        end = head\n",
      "        while True:\n",
      "            n = 1\n",
      "            while end != None and n < k:\n",
      "                end = end.next\n",
      "                n += 1\n",
      "            if end == None:\n",
      "                break\n",
      "            temp = start.next\n",
      "            n = 1\n",
      "            while n < k:\n",
      "                start.next = temp.next\n",
      "                t = pre.next\n",
      "                pre.next = temp\n",
      "                temp.next = t\n",
      "                temp = start.next\n",
      "                n += 1\n",
      "            pre = start\n",
      "            start = start.next\n",
      "            end = start\n",
      "        return H.next\n",
      "    head = ListNode(1)\n",
      "    head.next = ListNode(2)\n",
      "    head = reverseKGroup(head, 2)\n",
      "    print head.val"
     ],
     "language": "python",
     "metadata": {},
     "outputs": [
      {
       "output_type": "stream",
       "stream": "stdout",
       "text": [
        "2\n"
       ]
      }
     ],
     "prompt_number": 21
    },
    {
     "cell_type": "code",
     "collapsed": false,
     "input": [],
     "language": "python",
     "metadata": {},
     "outputs": [],
     "prompt_number": 15
    },
    {
     "cell_type": "code",
     "collapsed": false,
     "input": [],
     "language": "python",
     "metadata": {},
     "outputs": []
    }
   ],
   "metadata": {}
  }
 ]
}