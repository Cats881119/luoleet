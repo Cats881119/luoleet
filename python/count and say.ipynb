{
 "metadata": {
  "name": ""
 },
 "nbformat": 3,
 "nbformat_minor": 0,
 "worksheets": [
  {
   "cells": [
    {
     "cell_type": "code",
     "collapsed": false,
     "input": [
      "    def countAndSay(n):\n",
      "        t = [\"1\"]\n",
      "        k = 1\n",
      "        while k < n:\n",
      "            j = 0\n",
      "            i = 0\n",
      "            nt = len(t)\n",
      "            t1 = []\n",
      "            while i < nt:\n",
      "                if t[i] != t[j]:\n",
      "                    t1 += [chr(i-j+48)] + [t[j]]\n",
      "                    j = i\n",
      "                i += 1\n",
      "            t1 += [chr(i-j+48)] + [t[j]]\n",
      "            t = t1\n",
      "            k += 1\n",
      "        return \"\".join(t)\n",
      "    print countAndSay(6)"
     ],
     "language": "python",
     "metadata": {},
     "outputs": [
      {
       "output_type": "stream",
       "stream": "stdout",
       "text": [
        "312211\n"
       ]
      }
     ],
     "prompt_number": 12
    },
    {
     "cell_type": "code",
     "collapsed": false,
     "input": [],
     "language": "python",
     "metadata": {},
     "outputs": []
    }
   ],
   "metadata": {}
  }
 ]
}