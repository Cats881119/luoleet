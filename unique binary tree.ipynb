{
 "metadata": {
  "name": ""
 },
 "nbformat": 3,
 "nbformat_minor": 0,
 "worksheets": [
  {
   "cells": [
    {
     "cell_type": "code",
     "collapsed": false,
     "input": [
      "    def numTrees(n):\n",
      "        L = []\n",
      "        for i in range(0, n+1):\n",
      "            L.append(0)\n",
      "        L[1] = 1\n",
      "        for i in range(2, n+1):\n",
      "            for j in range(1, i+1):\n",
      "                L[i] = L[i] + L[j-1] + L[i-j]\n",
      "                print L[j-1], L[i-j], L\n",
      "        return L[n]\n",
      "    numTrees(3)"
     ],
     "language": "python",
     "metadata": {},
     "outputs": [
      {
       "output_type": "stream",
       "stream": "stdout",
       "text": [
        "0 1 [0, 1, 1, 0]\n",
        "1 0 [0, 1, 2, 0]\n",
        "0 2 [0, 1, 2, 2]\n",
        "1 1 [0, 1, 2, 4]\n",
        "2 0 [0, 1, 2, 6]\n"
       ]
      },
      {
       "metadata": {},
       "output_type": "pyout",
       "prompt_number": 4,
       "text": [
        "6"
       ]
      }
     ],
     "prompt_number": 4
    },
    {
     "cell_type": "code",
     "collapsed": false,
     "input": [],
     "language": "python",
     "metadata": {},
     "outputs": []
    }
   ],
   "metadata": {}
  }
 ]
}