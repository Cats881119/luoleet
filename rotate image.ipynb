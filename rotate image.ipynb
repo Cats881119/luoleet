{
 "metadata": {
  "name": ""
 },
 "nbformat": 3,
 "nbformat_minor": 0,
 "worksheets": [
  {
   "cells": [
    {
     "cell_type": "code",
     "collapsed": false,
     "input": [
      "    def rotate(matrix):\n",
      "        n = len(matrix)\n",
      "        left = 0\n",
      "        right = n-1\n",
      "        up = 0\n",
      "        bottom = n-1\n",
      "        while left < right:\n",
      "            i = left\n",
      "            while i < right:\n",
      "                d = i - left\n",
      "                t = matrix[up][i]\n",
      "                matrix[up][i] = matrix[bottom - d][left]\n",
      "                matrix[bottom - d][left] = matrix[bottom][right-d]\n",
      "                matrix[bottom][right-d] = matrix[up + d][right]\n",
      "                matrix[up + d][right] = t\n",
      "                i += 1\n",
      "            left += 1\n",
      "            right -= 1\n",
      "            up += 1\n",
      "            bottom -= 1\n",
      "        return matrix\n",
      "    rotate([[1,2,3,4],[5,6,7,8],[9,10,11,12],[13,14,15,16]])"
     ],
     "language": "python",
     "metadata": {},
     "outputs": [
      {
       "metadata": {},
       "output_type": "pyout",
       "prompt_number": 10,
       "text": [
        "[[13, 9, 5, 1], [14, 10, 6, 2], [15, 11, 7, 3], [16, 12, 8, 4]]"
       ]
      }
     ],
     "prompt_number": 10
    },
    {
     "cell_type": "code",
     "collapsed": false,
     "input": [],
     "language": "python",
     "metadata": {},
     "outputs": []
    }
   ],
   "metadata": {}
  }
 ]
}