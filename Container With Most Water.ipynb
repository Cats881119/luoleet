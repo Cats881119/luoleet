{
 "metadata": {
  "name": ""
 },
 "nbformat": 3,
 "nbformat_minor": 0,
 "worksheets": [
  {
   "cells": [
    {
     "cell_type": "code",
     "collapsed": false,
     "input": [
      "    def maxArea(height):\n",
      "        re = 0\n",
      "        n = len(height)\n",
      "        i = 0\n",
      "        j = n-1\n",
      "        while i < j:\n",
      "            re = max(re, min(height[i], height[j]) * (j - i))\n",
      "            if height[i] < height[j]:\n",
      "                t = height[i]\n",
      "                while height[i] <= t and i < n:\n",
      "                    i += 1\n",
      "            else:\n",
      "                t = height[j]\n",
      "                while height[j] <= t and j >= 0:\n",
      "                    j -= 1\n",
      "        return re\n",
      "    print maxArea([2,2,0,2,2])"
     ],
     "language": "python",
     "metadata": {},
     "outputs": [
      {
       "output_type": "stream",
       "stream": "stdout",
       "text": [
        "8\n"
       ]
      }
     ],
     "prompt_number": 9
    },
    {
     "cell_type": "code",
     "collapsed": false,
     "input": [],
     "language": "python",
     "metadata": {},
     "outputs": [],
     "prompt_number": 4
    },
    {
     "cell_type": "code",
     "collapsed": false,
     "input": [],
     "language": "python",
     "metadata": {},
     "outputs": []
    }
   ],
   "metadata": {}
  }
 ]
}