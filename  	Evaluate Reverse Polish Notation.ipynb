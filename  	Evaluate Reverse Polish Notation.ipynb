{
 "metadata": {
  "name": ""
 },
 "nbformat": 3,
 "nbformat_minor": 0,
 "worksheets": [
  {
   "cells": [
    {
     "cell_type": "code",
     "collapsed": false,
     "input": [
      "def rever(s):\n",
      "    n = len(s);\n",
      "    re = \"\"\n",
      "    if n == 0:\n",
      "        return re\n",
      "    for i in range(0, n):\n",
      "        if s[i] != ' ':\n",
      "            start = i\n",
      "            break\n",
      "    for i in range(n-1, -1, -1):\n",
      "        if s[i] != ' ':\n",
      "            end = i\n",
      "            break\n",
      "    we = end\n",
      "    for i in range(end, start-1, -1):\n",
      "        if s[i] == ' ':\n",
      "            if s[i+1] != ' ':\n",
      "                ws = i + 1;\n",
      "                for j in range(ws, we+1):\n",
      "                    re = re + s[j]\n",
      "                re = re + ' '\n",
      "            if s[i-1] != ' ':\n",
      "                we = i-1\n",
      "        if i == start:\n",
      "            ws = start\n",
      "            for j in range(ws, we+1):\n",
      "                re = re + s[j]\n",
      "    return re\n",
      "s = \"\"\n",
      "b = rever(s)\n",
      "print b"
     ],
     "language": "python",
     "metadata": {},
     "outputs": [
      {
       "output_type": "stream",
       "stream": "stdout",
       "text": [
        "\n"
       ]
      }
     ],
     "prompt_number": 53
    },
    {
     "cell_type": "code",
     "collapsed": false,
     "input": [
      "print len(\"\")"
     ],
     "language": "python",
     "metadata": {},
     "outputs": [
      {
       "output_type": "stream",
       "stream": "stdout",
       "text": [
        "0\n"
       ]
      }
     ],
     "prompt_number": 51
    },
    {
     "cell_type": "code",
     "collapsed": false,
     "input": [
      "print ord(\"1\")"
     ],
     "language": "python",
     "metadata": {},
     "outputs": [
      {
       "output_type": "stream",
       "stream": "stdout",
       "text": [
        "49\n"
       ]
      }
     ],
     "prompt_number": 58
    },
    {
     "cell_type": "code",
     "collapsed": false,
     "input": [],
     "language": "python",
     "metadata": {},
     "outputs": [],
     "prompt_number": 11
    },
    {
     "cell_type": "code",
     "collapsed": false,
     "input": [],
     "language": "python",
     "metadata": {},
     "outputs": []
    }
   ],
   "metadata": {}
  }
 ]
}