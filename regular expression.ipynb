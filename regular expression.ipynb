{
 "metadata": {
  "name": ""
 },
 "nbformat": 3,
 "nbformat_minor": 0,
 "worksheets": [
  {
   "cells": [
    {
     "cell_type": "code",
     "collapsed": false,
     "input": [
      "    def isMatch(s, p):\n",
      "        s += \"\\0\"\n",
      "        p += \"\\0\"\n",
      "        return match(s, p)\n",
      "    \n",
      "    def match(s, p):\n",
      "        ns = len(s)\n",
      "        np = len(p)\n",
      "        if p[0] == '\\0':\n",
      "            return s[0] == '\\0'\n",
      "        if p[1] != \"*\":\n",
      "            if p[0] == s[0] or (p[0] == \".\" and s[0] != \"\\0\"):\n",
      "                return match(s[1:ns], p[1:np])\n",
      "            else:\n",
      "                return False\n",
      "        else:\n",
      "            i = 0\n",
      "            while i < ns:\n",
      "                if match(s[i:ns], p[2:np]):\n",
      "                    return True\n",
      "                if s[i] == p[0] or (p[0] == \".\" and s[i] != \"\\0\"):\n",
      "                    i += 1\n",
      "                else:\n",
      "                    break\n",
      "            return False\n",
      "    isMatch(\"aaaaaaaaaaaaab\", \"a*a*a*a*a*a*a*a*a*a*c\")"
     ],
     "language": "python",
     "metadata": {},
     "outputs": [
      {
       "metadata": {},
       "output_type": "pyout",
       "prompt_number": 18,
       "text": [
        "False"
       ]
      }
     ],
     "prompt_number": 18
    },
    {
     "cell_type": "code",
     "collapsed": false,
     "input": [],
     "language": "python",
     "metadata": {},
     "outputs": [],
     "prompt_number": 17
    },
    {
     "cell_type": "code",
     "collapsed": false,
     "input": [],
     "language": "python",
     "metadata": {},
     "outputs": []
    }
   ],
   "metadata": {}
  }
 ]
}