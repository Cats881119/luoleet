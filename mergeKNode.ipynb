{
 "metadata": {
  "name": ""
 },
 "nbformat": 3,
 "nbformat_minor": 0,
 "worksheets": [
  {
   "cells": [
    {
     "cell_type": "code",
     "collapsed": false,
     "input": [
      "    class ListNode:\n",
      "        def __init__(self, x):\n",
      "            self.val = x\n",
      "            self.next = None\n",
      "    def mergeKLists(lists):\n",
      "        n = len(lists)\n",
      "        if n == 0:\n",
      "            return None\n",
      "        if n == 1:\n",
      "            return lists[0]\n",
      "        t1 = lists[:]\n",
      "        while len(t1) > 1:\n",
      "            i = 0\n",
      "            t2 = []\n",
      "            while i + 1 < len(t1):\n",
      "                t2.append(merge2Lists(t1[i], t1[i+1]))\n",
      "                i += 2\n",
      "            if i < len(t1):\n",
      "                t2.append(t1[i])\n",
      "            t1 = t2\n",
      "        return t1\n",
      "    def merge2Lists(list1, list2):\n",
      "        H = ListNode(0)\n",
      "        t = H\n",
      "        while list1 != None and list2 != None:\n",
      "            if list1.val < list2.val:\n",
      "                t.next = list1\n",
      "                t = t.next\n",
      "                list1 = list1.next\n",
      "            else:\n",
      "                t.next =list2\n",
      "                t = t.next\n",
      "                list2 = list2.next\n",
      "        if list1 != None:\n",
      "            t.next = list1\n",
      "        if list2 != None:\n",
      "            t.next = list2\n",
      "        return H.next\n",
      "    mergeKLists([None, None])"
     ],
     "language": "python",
     "metadata": {},
     "outputs": [
      {
       "metadata": {},
       "output_type": "pyout",
       "prompt_number": 3,
       "text": [
        "[None]"
       ]
      }
     ],
     "prompt_number": 3
    },
    {
     "cell_type": "code",
     "collapsed": false,
     "input": [],
     "language": "python",
     "metadata": {},
     "outputs": []
    }
   ],
   "metadata": {}
  }
 ]
}