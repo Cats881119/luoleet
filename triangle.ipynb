{
 "metadata": {
  "name": ""
 },
 "nbformat": 3,
 "nbformat_minor": 0,
 "worksheets": [
  {
   "cells": [
    {
     "cell_type": "code",
     "collapsed": false,
     "input": [
      "    def minimumTotal(triangle):\n",
      "        n = len(triangle)\n",
      "        if n == 0:\n",
      "            return 0\n",
      "        if n == 1:\n",
      "            return triangle[0][0]\n",
      "        pre = triangle[n-1][:]\n",
      "        cur = []\n",
      "        for i in range(n-2, -1, -1):\n",
      "            for j in range(0, i+1):\n",
      "                cur.append(triangle[i][j] + min(pre[j], pre[j+1]))\n",
      "            print pre\n",
      "            print cur,i\n",
      "            pre = cur[:]\n",
      "            cur = []\n",
      "        return pre[0]\n",
      "    a = [[1], [2,3]]\n",
      "    minimumTotal(a)\n",
      "        "
     ],
     "language": "python",
     "metadata": {},
     "outputs": [
      {
       "output_type": "stream",
       "stream": "stdout",
       "text": [
        "[2, 3]\n",
        "[3] 0\n"
       ]
      },
      {
       "metadata": {},
       "output_type": "pyout",
       "prompt_number": 8,
       "text": [
        "3"
       ]
      }
     ],
     "prompt_number": 8
    },
    {
     "cell_type": "code",
     "collapsed": false,
     "input": [],
     "language": "python",
     "metadata": {},
     "outputs": []
    }
   ],
   "metadata": {}
  }
 ]
}