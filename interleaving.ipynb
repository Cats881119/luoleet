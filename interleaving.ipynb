{
 "metadata": {
  "name": ""
 },
 "nbformat": 3,
 "nbformat_minor": 0,
 "worksheets": [
  {
   "cells": [
    {
     "cell_type": "code",
     "collapsed": false,
     "input": [
      "    def isInterleave(s1, s2, s3):\n",
      "        ni = len(s1)\n",
      "        nj = len(s2)\n",
      "        if ni + nj != len(s3):\n",
      "            return False\n",
      "        if ni < nj:\n",
      "            return isInterleave(s2, s1, s3)\n",
      "        L = [True]\n",
      "        for i in range(1, nj+1):\n",
      "            L.append(True)\n",
      "        for i in range(1, nj+1):\n",
      "            if s2[i-1] == s3[i-1]:\n",
      "                L[i] = L[i-1]\n",
      "            else:\n",
      "                L[i] = False\n",
      "        print L\n",
      "        for i in range(1, ni+1):\n",
      "            if s1[i-1] != s3[i-1]:\n",
      "                L[0] = False\n",
      "            for j in range(1, nj + 1):\n",
      "                if s1[i-1] == s3[i+j-1] and s2[j-1] == s3[i+j-1]:\n",
      "                    L[j] = L[j-1] or L[j]\n",
      "                elif s1[i-1] == s3[i+j-1]:\n",
      "                    continue\n",
      "                elif s2[j-1] == s3[i+j-1]:\n",
      "                    L[j] = L[j-1]\n",
      "                else:\n",
      "                    L[j] = False\n",
      "            print L\n",
      "        return L[nj]\n",
      "    isInterleave(\"ab\", \"bc\", \"babc\")"
     ],
     "language": "python",
     "metadata": {},
     "outputs": [
      {
       "output_type": "stream",
       "stream": "stdout",
       "text": [
        "[True, True, False]\n",
        "[False, True, False]\n",
        "[False, True, True]\n"
       ]
      },
      {
       "metadata": {},
       "output_type": "pyout",
       "prompt_number": 5,
       "text": [
        "True"
       ]
      }
     ],
     "prompt_number": 5
    },
    {
     "cell_type": "code",
     "collapsed": false,
     "input": [],
     "language": "python",
     "metadata": {},
     "outputs": []
    }
   ],
   "metadata": {}
  }
 ]
}