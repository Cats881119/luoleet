{
 "metadata": {
  "name": ""
 },
 "nbformat": 3,
 "nbformat_minor": 0,
 "worksheets": [
  {
   "cells": [
    {
     "cell_type": "code",
     "collapsed": false,
     "input": [
      "    def solveNQueens(n):\n",
      "        a = [-1] * n\n",
      "        s = [0]\n",
      "        re = []\n",
      "        while len(s) > 0:\n",
      "            a[s[-1]] += 1\n",
      "            if a[s[-1]] >= n:\n",
      "                a[s[-1]] = -1\n",
      "                s.pop()\n",
      "                continue\n",
      "            if isconflict(a, s[-1], a[s[-1]]) == False:\n",
      "                if s[-1] == n-1:\n",
      "                    re.append(gener(a))\n",
      "                else:\n",
      "                    s.append(s[-1]+1)\n",
      "        return re\n",
      "    \n",
      "    def isconflict(a, r, c):\n",
      "        for i in range(0, r):\n",
      "            if a[i] == c or abs(a[i] - c) == abs(i - r):\n",
      "                return True\n",
      "        return False\n",
      "    def gener(a):\n",
      "        re = []\n",
      "        t = [\".\"] * len(a)\n",
      "        for i in range(0, len(a)):\n",
      "            t1 = t[:]\n",
      "            t1[a[i]] = \"Q\"\n",
      "            re.append(\"\".join(t1))\n",
      "        return re\n",
      "    print solveNQueens(4)"
     ],
     "language": "python",
     "metadata": {},
     "outputs": [
      {
       "output_type": "stream",
       "stream": "stdout",
       "text": [
        "[['.Q..', '...Q', 'Q...', '..Q.'], ['..Q.', 'Q...', '...Q', '.Q..']]\n"
       ]
      }
     ],
     "prompt_number": 3
    },
    {
     "cell_type": "code",
     "collapsed": false,
     "input": [],
     "language": "python",
     "metadata": {},
     "outputs": [],
     "prompt_number": 2
    },
    {
     "cell_type": "code",
     "collapsed": false,
     "input": [],
     "language": "python",
     "metadata": {},
     "outputs": []
    }
   ],
   "metadata": {}
  }
 ]
}