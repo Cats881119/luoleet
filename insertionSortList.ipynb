{
 "metadata": {
  "name": ""
 },
 "nbformat": 3,
 "nbformat_minor": 0,
 "worksheets": [
  {
   "cells": [
    {
     "cell_type": "code",
     "collapsed": false,
     "input": [
      "    %time\n",
      "    class ListNode:\n",
      "        def __init__(self, x):\n",
      "            self.val = x\n",
      "            self.next = None\n",
      "    def insertionSortList(head):\n",
      "        if head == None or head.next == None:\n",
      "            return head\n",
      "        H = ListNode(0)\n",
      "        H.next = head\n",
      "        head = head.next\n",
      "        H.next.next = None\n",
      "        num = 0\n",
      "        while head != None:\n",
      "            th = H\n",
      "            t = H.next\n",
      "            while t != None:\n",
      "                if head.val < t.val:\n",
      "                    th.next = head\n",
      "                    head = head.next\n",
      "                    th.next.next = t\n",
      "                    break\n",
      "                th = th.next\n",
      "                t = th.next\n",
      "                num += 1\n",
      "            if t == None:\n",
      "                th.next = head\n",
      "                head = head.next\n",
      "                th.next.next = t\n",
      "                num += 1\n",
      "        t = H.next\n",
      "        print num\n",
      "        return t\n",
      "    head = ListNode(0)\n",
      "    t = head\n",
      "    for i in range(1, 5000):\n",
      "        t.next = ListNode(i)\n",
      "        t = t.next\n",
      "    head = insertionSortList(head)\n",
      "    while head.next != None:\n",
      "        if head.val > head.next.val:\n",
      "            print head.val\n",
      "            print head.next.val\n",
      "        head = head.next\n",
      "    "
     ],
     "language": "python",
     "metadata": {},
     "outputs": [
      {
       "output_type": "stream",
       "stream": "stdout",
       "text": [
        "CPU times: user 1 \u00b5s, sys: 1 \u00b5s, total: 2 \u00b5s\n",
        "Wall time: 4.05 \u00b5s\n",
        "12502499"
       ]
      },
      {
       "output_type": "stream",
       "stream": "stdout",
       "text": [
        "\n"
       ]
      }
     ],
     "prompt_number": 2
    },
    {
     "cell_type": "code",
     "collapsed": false,
     "input": [],
     "language": "python",
     "metadata": {},
     "outputs": []
    }
   ],
   "metadata": {}
  }
 ]
}