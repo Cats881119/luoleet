{
 "metadata": {
  "name": ""
 },
 "nbformat": 3,
 "nbformat_minor": 0,
 "worksheets": [
  {
   "cells": [
    {
     "cell_type": "code",
     "collapsed": false,
     "input": [
      "    def fullJustify(words, L):\n",
      "        if L == 0:\n",
      "            return [\"\"]\n",
      "        re = []\n",
      "        curw = []\n",
      "        numspace = 0\n",
      "        n = len(words)\n",
      "        i = 0\n",
      "        wordlength = 0\n",
      "        while i < n:\n",
      "            if wordlength +  numspace < L:\n",
      "                curw.append(words[i])\n",
      "                wordlength += len(words[i])\n",
      "                i += 1\n",
      "                if len(curw) > 1:\n",
      "                    numspace += 1\n",
      "            if wordlength + numspace > L:\n",
      "                wordlength -= len(words[i-1])\n",
      "                curw.pop()\n",
      "                numspace -= 1\n",
      "                t = join_word(curw, wordlength, numspace, L)\n",
      "                re.append(t)\n",
      "                i -= 1\n",
      "                curw = []\n",
      "                wordlength = 0\n",
      "                numspace = 0\n",
      "                continue\n",
      "            if wordlength + numspace == L:\n",
      "                t = join_word(curw, wordlength, numspace, L)\n",
      "                re.append(t)\n",
      "                curw = []\n",
      "                numspace = 0\n",
      "                wordlength = 0\n",
      "        if len(curw) > 0:\n",
      "            t = lastline(curw, wordlength, numspace, L)\n",
      "            re.append(t)\n",
      "        return re\n",
      "    def lastline(curw, wordlength, numspace, L):\n",
      "        re = curw[0]\n",
      "        for i in range(1, len(curw)):\n",
      "            re = re + \" \" + curw[i]\n",
      "        t = \"\".join([\" \"] * (L - numspace - wordlength))\n",
      "        re = re + t\n",
      "        return re\n",
      "    def join_word(curw, wordlength, numspace, L):\n",
      "        morespace = L - numspace - wordlength\n",
      "        if numspace == 0:\n",
      "            tsl = [\" \"] * morespace\n",
      "            ts = \"\".join(tsl)\n",
      "            re = curw[0] + ts\n",
      "            return re\n",
      "        else:\n",
      "            aver = morespace / numspace\n",
      "            before = morespace % numspace\n",
      "            ts1 = \"\".join([\" \"] * (aver+2))\n",
      "            ts2 = \"\".join([\" \"] * (aver+1))\n",
      "            re = curw[0]\n",
      "            k = 0\n",
      "            for i in range(1, len(curw)):\n",
      "                if k < before:\n",
      "                    re = re + ts1 + curw[i]\n",
      "                    k += 1\n",
      "                else:\n",
      "                    re = re + ts2 + curw[i]\n",
      "            return re\n",
      "    fullJustify([\"Listen\",\"ti\",\"many,\",\"speak\",\"to\",\"a\",\"few.\"], 6)"
     ],
     "language": "python",
     "metadata": {},
     "outputs": [
      {
       "metadata": {},
       "output_type": "pyout",
       "prompt_number": 38,
       "text": [
        "['Listen', 'ti    ', 'many, ', 'speak ', 'to   a', 'few.  ']"
       ]
      }
     ],
     "prompt_number": 38
    },
    {
     "cell_type": "code",
     "collapsed": false,
     "input": [],
     "language": "python",
     "metadata": {},
     "outputs": []
    }
   ],
   "metadata": {}
  }
 ]
}