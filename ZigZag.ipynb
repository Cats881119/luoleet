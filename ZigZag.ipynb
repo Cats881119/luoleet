{
 "metadata": {
  "name": ""
 },
 "nbformat": 3,
 "nbformat_minor": 0,
 "worksheets": [
  {
   "cells": [
    {
     "cell_type": "code",
     "collapsed": false,
     "input": [
      "    def convert(s, nRows):\n",
      "        if nRows == 1:\n",
      "            return s\n",
      "        re = \"\"\n",
      "        n = len(s)\n",
      "        for i in range(0, nRows):\n",
      "            if i == 0 or i == nRows-1:\n",
      "                j = i\n",
      "                while j < n:\n",
      "                    re += s[j]\n",
      "                    j += 2 * (nRows - 1)\n",
      "            else:\n",
      "                j = i\n",
      "                k = 0\n",
      "                while j < n:\n",
      "                    re += s[j]\n",
      "                    if k % 2 == 0:\n",
      "                        j += 2 * (nRows - 1 - i)\n",
      "                    else:\n",
      "                        j += 2 * i\n",
      "                    k += 1\n",
      "        return re\n",
      "    s = \"0123456789\"\n",
      "    print len(convert(s, 4)), len(s)\n",
      "    print convert(s,4)"
     ],
     "language": "python",
     "metadata": {},
     "outputs": [
      {
       "output_type": "stream",
       "stream": "stdout",
       "text": [
        "10 10\n",
        "0615724839\n"
       ]
      }
     ],
     "prompt_number": 23
    },
    {
     "cell_type": "code",
     "collapsed": false,
     "input": [],
     "language": "python",
     "metadata": {},
     "outputs": []
    },
    {
     "cell_type": "code",
     "collapsed": false,
     "input": [],
     "language": "python",
     "metadata": {},
     "outputs": []
    },
    {
     "cell_type": "code",
     "collapsed": false,
     "input": [],
     "language": "python",
     "metadata": {},
     "outputs": []
    }
   ],
   "metadata": {}
  }
 ]
}