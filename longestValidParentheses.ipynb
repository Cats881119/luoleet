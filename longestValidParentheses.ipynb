{
 "metadata": {
  "name": ""
 },
 "nbformat": 3,
 "nbformat_minor": 0,
 "worksheets": [
  {
   "cells": [
    {
     "cell_type": "code",
     "collapsed": false,
     "input": [
      "    def longestValidParentheses(s):\n",
      "        length = 0\n",
      "        n = len(s)\n",
      "        stack = []\n",
      "        for i in range(0, n):\n",
      "            if len(stack) == 0:\n",
      "                stack.append(i)\n",
      "            else:\n",
      "                if ispair(s[stack[-1]], s[i]):\n",
      "                    stack.pop()\n",
      "                    if len(stack) > 0:\n",
      "                        length = max(length, i - stack[-1])\n",
      "                    else:\n",
      "                        length = max(length, i + 1)\n",
      "                else:\n",
      "                    stack.append(i)\n",
      "        return length\n",
      "            \n",
      "    def ispair(sf, sa):\n",
      "        if sf == \"(\":\n",
      "            return sa == \")\"\n",
      "        return False\n",
      "    longestValidParentheses(\")()()))\")"
     ],
     "language": "python",
     "metadata": {},
     "outputs": [
      {
       "metadata": {},
       "output_type": "pyout",
       "prompt_number": 4,
       "text": [
        "4"
       ]
      }
     ],
     "prompt_number": 4
    },
    {
     "cell_type": "code",
     "collapsed": false,
     "input": [],
     "language": "python",
     "metadata": {},
     "outputs": []
    }
   ],
   "metadata": {}
  }
 ]
}