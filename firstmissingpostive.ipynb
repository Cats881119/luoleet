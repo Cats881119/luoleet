{
 "metadata": {
  "name": ""
 },
 "nbformat": 3,
 "nbformat_minor": 0,
 "worksheets": [
  {
   "cells": [
    {
     "cell_type": "code",
     "collapsed": false,
     "input": [
      "    def f(A):\n",
      "        n = len(A)\n",
      "        Aa = A[:]\n",
      "        for i in range(0, n):\n",
      "            while Aa[i] != i + 1:\n",
      "                if Aa[i] <=0 or Aa[i] > n:\n",
      "                    break\n",
      "                if Aa[i] == Aa[Aa[i]-1]:\n",
      "                    break\n",
      "                t = Aa[i]\n",
      "                d = Aa[i] -1\n",
      "                Aa[i] = Aa[d]\n",
      "                Aa[d] = t\n",
      "                print Aa\n",
      "        for i in range(0, n):\n",
      "            if Aa[i] != i + 1:\n",
      "                return i+1\n",
      "    f([2,1])"
     ],
     "language": "python",
     "metadata": {},
     "outputs": [
      {
       "output_type": "stream",
       "stream": "stdout",
       "text": [
        "[1, 2]\n"
       ]
      }
     ],
     "prompt_number": 3
    },
    {
     "cell_type": "code",
     "collapsed": false,
     "input": [],
     "language": "python",
     "metadata": {},
     "outputs": []
    }
   ],
   "metadata": {}
  }
 ]
}